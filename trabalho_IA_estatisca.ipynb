{
  "nbformat": 4,
  "nbformat_minor": 0,
  "metadata": {
    "colab": {
      "name": "trabalho_IA_estatisca.ipynb",
      "provenance": [],
      "collapsed_sections": [],
      "mount_file_id": "19J4k6TTgtS9O01SwEiICKUDEFQiqVtYg",
      "authorship_tag": "ABX9TyOEUewQLNJuPFMR3tIKTYTq",
      "include_colab_link": true
    },
    "kernelspec": {
      "name": "python3",
      "display_name": "Python 3"
    },
    "language_info": {
      "name": "python"
    }
  },
  "cells": [
    {
      "cell_type": "markdown",
      "metadata": {
        "id": "view-in-github",
        "colab_type": "text"
      },
      "source": [
        "<a href=\"https://colab.research.google.com/github/ranielli/analise-dados-covid-estatistica/blob/main/trabalho_IA_estatisca.ipynb\" target=\"_parent\"><img src=\"https://colab.research.google.com/assets/colab-badge.svg\" alt=\"Open In Colab\"/></a>"
      ]
    },
    {
      "cell_type": "markdown",
      "metadata": {
        "id": "3fItwleeQ9DF"
      },
      "source": [
        "\n",
        "# **Análise de Covid 19  - Município do Rio de Janeiro X Estado do RJ**\n",
        "Autor: Rânielli Neves"
      ]
    },
    {
      "cell_type": "markdown",
      "metadata": {
        "id": "mLaO1NpGSJp_"
      },
      "source": [
        "* Preparação do Ambiente e criação dos **datasets**\n",
        "\n",
        "\n",
        "\n"
      ]
    },
    {
      "cell_type": "code",
      "metadata": {
        "id": "WGZpi0FtkCwU"
      },
      "source": [
        "import numpy as np\n",
        "import pandas as pd\n",
        "import csv\n",
        "import matplotlib.pyplot as plt\n",
        "%matplotlib inline\n",
        "\n",
        "\n",
        "data_20p1= pd.read_csv('/content/drive/MyDrive/trabalho_estatistica/HIST_PAINEL_COVIDBR_2020_Parte1_14jul2021_new.csv', sep=';',low_memory=False)\n",
        "data_20p2= pd.read_csv('/content/drive/MyDrive/trabalho_estatistica/HIST_PAINEL_COVIDBR_2020_Parte2_14jul2021.csv', sep=';',low_memory=False)\n",
        "data_21p1= pd.read_csv('/content/drive/MyDrive/trabalho_estatistica/HIST_PAINEL_COVIDBR_2021_Parte1_14jul2021.csv', sep=';',low_memory=False)\n",
        "data_21p2= pd.read_csv('/content/drive/MyDrive/trabalho_estatistica/HIST_PAINEL_COVIDBR_2021_Parte2_14jul2021.csv', sep=';',low_memory=False)\n",
        "\n"
      ],
      "execution_count": 1,
      "outputs": []
    },
    {
      "cell_type": "markdown",
      "metadata": {
        "id": "b8zovW1Oae0Q"
      },
      "source": [
        "* Unificação dos datasets "
      ]
    },
    {
      "cell_type": "code",
      "metadata": {
        "id": "HWjVF0f4031D"
      },
      "source": [
        "data_geral = pd.concat([data_20p1, data_20p2, data_21p1,data_21p2])"
      ],
      "execution_count": 2,
      "outputs": []
    },
    {
      "cell_type": "code",
      "metadata": {
        "colab": {
          "base_uri": "https://localhost:8080/",
          "height": 224
        },
        "id": "8rTxFQ9pNXSQ",
        "outputId": "1ad55f09-57fb-434c-8fea-c8bf4b7e3916"
      },
      "source": [
        "data_geral.head()\n"
      ],
      "execution_count": 3,
      "outputs": [
        {
          "output_type": "execute_result",
          "data": {
            "text/html": [
              "<div>\n",
              "<style scoped>\n",
              "    .dataframe tbody tr th:only-of-type {\n",
              "        vertical-align: middle;\n",
              "    }\n",
              "\n",
              "    .dataframe tbody tr th {\n",
              "        vertical-align: top;\n",
              "    }\n",
              "\n",
              "    .dataframe thead th {\n",
              "        text-align: right;\n",
              "    }\n",
              "</style>\n",
              "<table border=\"1\" class=\"dataframe\">\n",
              "  <thead>\n",
              "    <tr style=\"text-align: right;\">\n",
              "      <th></th>\n",
              "      <th>regiao</th>\n",
              "      <th>estado</th>\n",
              "      <th>municipio</th>\n",
              "      <th>coduf</th>\n",
              "      <th>codmun</th>\n",
              "      <th>codRegiaoSaude</th>\n",
              "      <th>nomeRegiaoSaude</th>\n",
              "      <th>data</th>\n",
              "      <th>semanaEpi</th>\n",
              "      <th>populacaoTCU2019</th>\n",
              "      <th>casosAcumulado</th>\n",
              "      <th>casosNovos</th>\n",
              "      <th>obitosAcumulado</th>\n",
              "      <th>obitosNovos</th>\n",
              "      <th>Recuperadosnovos</th>\n",
              "      <th>emAcompanhamentoNovos</th>\n",
              "      <th>interior/metropolitana</th>\n",
              "    </tr>\n",
              "  </thead>\n",
              "  <tbody>\n",
              "    <tr>\n",
              "      <th>Brasil</th>\n",
              "      <td>NaN</td>\n",
              "      <td>NaN</td>\n",
              "      <td>76</td>\n",
              "      <td>NaN</td>\n",
              "      <td>NaN</td>\n",
              "      <td>NaN</td>\n",
              "      <td>2020-02-25</td>\n",
              "      <td>9</td>\n",
              "      <td>210147125.0</td>\n",
              "      <td>0.0</td>\n",
              "      <td>0.0</td>\n",
              "      <td>0</td>\n",
              "      <td>0</td>\n",
              "      <td>NaN</td>\n",
              "      <td>NaN</td>\n",
              "      <td>NaN</td>\n",
              "      <td>NaN</td>\n",
              "    </tr>\n",
              "    <tr>\n",
              "      <th>Brasil</th>\n",
              "      <td>NaN</td>\n",
              "      <td>NaN</td>\n",
              "      <td>76</td>\n",
              "      <td>NaN</td>\n",
              "      <td>NaN</td>\n",
              "      <td>NaN</td>\n",
              "      <td>2020-02-26</td>\n",
              "      <td>9</td>\n",
              "      <td>210147125.0</td>\n",
              "      <td>1.0</td>\n",
              "      <td>1.0</td>\n",
              "      <td>0</td>\n",
              "      <td>0</td>\n",
              "      <td>NaN</td>\n",
              "      <td>NaN</td>\n",
              "      <td>NaN</td>\n",
              "      <td>NaN</td>\n",
              "    </tr>\n",
              "    <tr>\n",
              "      <th>Brasil</th>\n",
              "      <td>NaN</td>\n",
              "      <td>NaN</td>\n",
              "      <td>76</td>\n",
              "      <td>NaN</td>\n",
              "      <td>NaN</td>\n",
              "      <td>NaN</td>\n",
              "      <td>2020-02-27</td>\n",
              "      <td>9</td>\n",
              "      <td>210147125.0</td>\n",
              "      <td>1.0</td>\n",
              "      <td>0.0</td>\n",
              "      <td>0</td>\n",
              "      <td>0</td>\n",
              "      <td>NaN</td>\n",
              "      <td>NaN</td>\n",
              "      <td>NaN</td>\n",
              "      <td>NaN</td>\n",
              "    </tr>\n",
              "    <tr>\n",
              "      <th>Brasil</th>\n",
              "      <td>NaN</td>\n",
              "      <td>NaN</td>\n",
              "      <td>76</td>\n",
              "      <td>NaN</td>\n",
              "      <td>NaN</td>\n",
              "      <td>NaN</td>\n",
              "      <td>2020-02-28</td>\n",
              "      <td>9</td>\n",
              "      <td>210147125.0</td>\n",
              "      <td>1.0</td>\n",
              "      <td>0.0</td>\n",
              "      <td>0</td>\n",
              "      <td>0</td>\n",
              "      <td>NaN</td>\n",
              "      <td>NaN</td>\n",
              "      <td>NaN</td>\n",
              "      <td>NaN</td>\n",
              "    </tr>\n",
              "    <tr>\n",
              "      <th>Brasil</th>\n",
              "      <td>NaN</td>\n",
              "      <td>NaN</td>\n",
              "      <td>76</td>\n",
              "      <td>NaN</td>\n",
              "      <td>NaN</td>\n",
              "      <td>NaN</td>\n",
              "      <td>2020-02-29</td>\n",
              "      <td>9</td>\n",
              "      <td>210147125.0</td>\n",
              "      <td>2.0</td>\n",
              "      <td>1.0</td>\n",
              "      <td>0</td>\n",
              "      <td>0</td>\n",
              "      <td>NaN</td>\n",
              "      <td>NaN</td>\n",
              "      <td>NaN</td>\n",
              "      <td>NaN</td>\n",
              "    </tr>\n",
              "  </tbody>\n",
              "</table>\n",
              "</div>"
            ],
            "text/plain": [
              "       regiao estado  ... emAcompanhamentoNovos  interior/metropolitana\n",
              "Brasil    NaN    NaN  ...                   NaN                     NaN\n",
              "Brasil    NaN    NaN  ...                   NaN                     NaN\n",
              "Brasil    NaN    NaN  ...                   NaN                     NaN\n",
              "Brasil    NaN    NaN  ...                   NaN                     NaN\n",
              "Brasil    NaN    NaN  ...                   NaN                     NaN\n",
              "\n",
              "[5 rows x 17 columns]"
            ]
          },
          "metadata": {
            "tags": []
          },
          "execution_count": 3
        }
      ]
    },
    {
      "cell_type": "markdown",
      "metadata": {
        "id": "Wn_WrrlGOUfC"
      },
      "source": [
        ""
      ]
    },
    {
      "cell_type": "markdown",
      "metadata": {
        "id": "SFptQzTIa-eG"
      },
      "source": [
        "##Análise do Município Rio de Janeiro\n",
        "* Criando um dataframe Município Rio de Janeiro"
      ]
    },
    {
      "cell_type": "code",
      "metadata": {
        "id": "JZHAJn1pNovH",
        "colab": {
          "base_uri": "https://localhost:8080/",
          "height": 609
        },
        "outputId": "426e5ec5-3525-4d13-a505-8295aa97a1c7"
      },
      "source": [
        "geral_munic_rj = data_geral[data_geral.municipio =='Rio de Janeiro']\n",
        "geral_munic_rj"
      ],
      "execution_count": 4,
      "outputs": [
        {
          "output_type": "execute_result",
          "data": {
            "text/html": [
              "<div>\n",
              "<style scoped>\n",
              "    .dataframe tbody tr th:only-of-type {\n",
              "        vertical-align: middle;\n",
              "    }\n",
              "\n",
              "    .dataframe tbody tr th {\n",
              "        vertical-align: top;\n",
              "    }\n",
              "\n",
              "    .dataframe thead th {\n",
              "        text-align: right;\n",
              "    }\n",
              "</style>\n",
              "<table border=\"1\" class=\"dataframe\">\n",
              "  <thead>\n",
              "    <tr style=\"text-align: right;\">\n",
              "      <th></th>\n",
              "      <th>regiao</th>\n",
              "      <th>estado</th>\n",
              "      <th>municipio</th>\n",
              "      <th>coduf</th>\n",
              "      <th>codmun</th>\n",
              "      <th>codRegiaoSaude</th>\n",
              "      <th>nomeRegiaoSaude</th>\n",
              "      <th>data</th>\n",
              "      <th>semanaEpi</th>\n",
              "      <th>populacaoTCU2019</th>\n",
              "      <th>casosAcumulado</th>\n",
              "      <th>casosNovos</th>\n",
              "      <th>obitosAcumulado</th>\n",
              "      <th>obitosNovos</th>\n",
              "      <th>Recuperadosnovos</th>\n",
              "      <th>emAcompanhamentoNovos</th>\n",
              "      <th>interior/metropolitana</th>\n",
              "    </tr>\n",
              "  </thead>\n",
              "  <tbody>\n",
              "    <tr>\n",
              "      <th>502606</th>\n",
              "      <td>Sudeste</td>\n",
              "      <td>RJ</td>\n",
              "      <td>Rio de Janeiro</td>\n",
              "      <td>33.0</td>\n",
              "      <td>330455.0</td>\n",
              "      <td>33005</td>\n",
              "      <td>METROPOLITANA I</td>\n",
              "      <td>2020-08-01</td>\n",
              "      <td>31.0</td>\n",
              "      <td>6718903.0</td>\n",
              "      <td>71792.0</td>\n",
              "      <td>470</td>\n",
              "      <td>8344</td>\n",
              "      <td>34.0</td>\n",
              "      <td>NaN</td>\n",
              "      <td>NaN</td>\n",
              "      <td>1.0</td>\n",
              "    </tr>\n",
              "    <tr>\n",
              "      <th>502607</th>\n",
              "      <td>Sudeste</td>\n",
              "      <td>RJ</td>\n",
              "      <td>Rio de Janeiro</td>\n",
              "      <td>33.0</td>\n",
              "      <td>330455.0</td>\n",
              "      <td>33005</td>\n",
              "      <td>METROPOLITANA I</td>\n",
              "      <td>2020-08-02</td>\n",
              "      <td>32.0</td>\n",
              "      <td>6718903.0</td>\n",
              "      <td>71802.0</td>\n",
              "      <td>10</td>\n",
              "      <td>8358</td>\n",
              "      <td>14.0</td>\n",
              "      <td>NaN</td>\n",
              "      <td>NaN</td>\n",
              "      <td>1.0</td>\n",
              "    </tr>\n",
              "    <tr>\n",
              "      <th>502608</th>\n",
              "      <td>Sudeste</td>\n",
              "      <td>RJ</td>\n",
              "      <td>Rio de Janeiro</td>\n",
              "      <td>33.0</td>\n",
              "      <td>330455.0</td>\n",
              "      <td>33005</td>\n",
              "      <td>METROPOLITANA I</td>\n",
              "      <td>2020-08-03</td>\n",
              "      <td>32.0</td>\n",
              "      <td>6718903.0</td>\n",
              "      <td>72079.0</td>\n",
              "      <td>277</td>\n",
              "      <td>8371</td>\n",
              "      <td>13.0</td>\n",
              "      <td>NaN</td>\n",
              "      <td>NaN</td>\n",
              "      <td>1.0</td>\n",
              "    </tr>\n",
              "    <tr>\n",
              "      <th>502609</th>\n",
              "      <td>Sudeste</td>\n",
              "      <td>RJ</td>\n",
              "      <td>Rio de Janeiro</td>\n",
              "      <td>33.0</td>\n",
              "      <td>330455.0</td>\n",
              "      <td>33005</td>\n",
              "      <td>METROPOLITANA I</td>\n",
              "      <td>2020-08-04</td>\n",
              "      <td>32.0</td>\n",
              "      <td>6718903.0</td>\n",
              "      <td>72722.0</td>\n",
              "      <td>643</td>\n",
              "      <td>8419</td>\n",
              "      <td>48.0</td>\n",
              "      <td>NaN</td>\n",
              "      <td>NaN</td>\n",
              "      <td>1.0</td>\n",
              "    </tr>\n",
              "    <tr>\n",
              "      <th>502610</th>\n",
              "      <td>Sudeste</td>\n",
              "      <td>RJ</td>\n",
              "      <td>Rio de Janeiro</td>\n",
              "      <td>33.0</td>\n",
              "      <td>330455.0</td>\n",
              "      <td>33005</td>\n",
              "      <td>METROPOLITANA I</td>\n",
              "      <td>2020-08-05</td>\n",
              "      <td>32.0</td>\n",
              "      <td>6718903.0</td>\n",
              "      <td>73396.0</td>\n",
              "      <td>674</td>\n",
              "      <td>8499</td>\n",
              "      <td>80.0</td>\n",
              "      <td>NaN</td>\n",
              "      <td>NaN</td>\n",
              "      <td>1.0</td>\n",
              "    </tr>\n",
              "    <tr>\n",
              "      <th>...</th>\n",
              "      <td>...</td>\n",
              "      <td>...</td>\n",
              "      <td>...</td>\n",
              "      <td>...</td>\n",
              "      <td>...</td>\n",
              "      <td>...</td>\n",
              "      <td>...</td>\n",
              "      <td>...</td>\n",
              "      <td>...</td>\n",
              "      <td>...</td>\n",
              "      <td>...</td>\n",
              "      <td>...</td>\n",
              "      <td>...</td>\n",
              "      <td>...</td>\n",
              "      <td>...</td>\n",
              "      <td>...</td>\n",
              "      <td>...</td>\n",
              "    </tr>\n",
              "    <tr>\n",
              "      <th>45999</th>\n",
              "      <td>Sudeste</td>\n",
              "      <td>RJ</td>\n",
              "      <td>Rio de Janeiro</td>\n",
              "      <td>33.0</td>\n",
              "      <td>330455.0</td>\n",
              "      <td>33005</td>\n",
              "      <td>METROPOLITANA I</td>\n",
              "      <td>2021-07-10</td>\n",
              "      <td>27.0</td>\n",
              "      <td>6718903.0</td>\n",
              "      <td>375242.0</td>\n",
              "      <td>1466</td>\n",
              "      <td>29175</td>\n",
              "      <td>133.0</td>\n",
              "      <td>NaN</td>\n",
              "      <td>NaN</td>\n",
              "      <td>1.0</td>\n",
              "    </tr>\n",
              "    <tr>\n",
              "      <th>46000</th>\n",
              "      <td>Sudeste</td>\n",
              "      <td>RJ</td>\n",
              "      <td>Rio de Janeiro</td>\n",
              "      <td>33.0</td>\n",
              "      <td>330455.0</td>\n",
              "      <td>33005</td>\n",
              "      <td>METROPOLITANA I</td>\n",
              "      <td>2021-07-11</td>\n",
              "      <td>28.0</td>\n",
              "      <td>6718903.0</td>\n",
              "      <td>375616.0</td>\n",
              "      <td>374</td>\n",
              "      <td>29185</td>\n",
              "      <td>10.0</td>\n",
              "      <td>NaN</td>\n",
              "      <td>NaN</td>\n",
              "      <td>1.0</td>\n",
              "    </tr>\n",
              "    <tr>\n",
              "      <th>46001</th>\n",
              "      <td>Sudeste</td>\n",
              "      <td>RJ</td>\n",
              "      <td>Rio de Janeiro</td>\n",
              "      <td>33.0</td>\n",
              "      <td>330455.0</td>\n",
              "      <td>33005</td>\n",
              "      <td>METROPOLITANA I</td>\n",
              "      <td>2021-07-12</td>\n",
              "      <td>28.0</td>\n",
              "      <td>6718903.0</td>\n",
              "      <td>375908.0</td>\n",
              "      <td>292</td>\n",
              "      <td>29192</td>\n",
              "      <td>7.0</td>\n",
              "      <td>NaN</td>\n",
              "      <td>NaN</td>\n",
              "      <td>1.0</td>\n",
              "    </tr>\n",
              "    <tr>\n",
              "      <th>46002</th>\n",
              "      <td>Sudeste</td>\n",
              "      <td>RJ</td>\n",
              "      <td>Rio de Janeiro</td>\n",
              "      <td>33.0</td>\n",
              "      <td>330455.0</td>\n",
              "      <td>33005</td>\n",
              "      <td>METROPOLITANA I</td>\n",
              "      <td>2021-07-13</td>\n",
              "      <td>28.0</td>\n",
              "      <td>6718903.0</td>\n",
              "      <td>376763.0</td>\n",
              "      <td>855</td>\n",
              "      <td>29241</td>\n",
              "      <td>49.0</td>\n",
              "      <td>NaN</td>\n",
              "      <td>NaN</td>\n",
              "      <td>1.0</td>\n",
              "    </tr>\n",
              "    <tr>\n",
              "      <th>46003</th>\n",
              "      <td>Sudeste</td>\n",
              "      <td>RJ</td>\n",
              "      <td>Rio de Janeiro</td>\n",
              "      <td>33.0</td>\n",
              "      <td>330455.0</td>\n",
              "      <td>33005</td>\n",
              "      <td>METROPOLITANA I</td>\n",
              "      <td>2021-07-14</td>\n",
              "      <td>28.0</td>\n",
              "      <td>6718903.0</td>\n",
              "      <td>378301.0</td>\n",
              "      <td>1538</td>\n",
              "      <td>29295</td>\n",
              "      <td>54.0</td>\n",
              "      <td>NaN</td>\n",
              "      <td>NaN</td>\n",
              "      <td>1.0</td>\n",
              "    </tr>\n",
              "  </tbody>\n",
              "</table>\n",
              "<p>348 rows × 17 columns</p>\n",
              "</div>"
            ],
            "text/plain": [
              "         regiao estado  ... emAcompanhamentoNovos  interior/metropolitana\n",
              "502606  Sudeste     RJ  ...                   NaN                     1.0\n",
              "502607  Sudeste     RJ  ...                   NaN                     1.0\n",
              "502608  Sudeste     RJ  ...                   NaN                     1.0\n",
              "502609  Sudeste     RJ  ...                   NaN                     1.0\n",
              "502610  Sudeste     RJ  ...                   NaN                     1.0\n",
              "...         ...    ...  ...                   ...                     ...\n",
              "45999   Sudeste     RJ  ...                   NaN                     1.0\n",
              "46000   Sudeste     RJ  ...                   NaN                     1.0\n",
              "46001   Sudeste     RJ  ...                   NaN                     1.0\n",
              "46002   Sudeste     RJ  ...                   NaN                     1.0\n",
              "46003   Sudeste     RJ  ...                   NaN                     1.0\n",
              "\n",
              "[348 rows x 17 columns]"
            ]
          },
          "metadata": {
            "tags": []
          },
          "execution_count": 4
        }
      ]
    },
    {
      "cell_type": "markdown",
      "metadata": {
        "id": "tkThLXKkbqgj"
      },
      "source": [
        "* Covertendo a coluna data para formato datetime"
      ]
    },
    {
      "cell_type": "code",
      "metadata": {
        "colab": {
          "base_uri": "https://localhost:8080/",
          "height": 0
        },
        "id": "PKohVSrDQjrm",
        "outputId": "7c14ca13-7081-4c14-be0e-b757fef53953"
      },
      "source": [
        "geral_munic_rj['data'] = pd.to_datetime(geral_munic_rj['data'])"
      ],
      "execution_count": 5,
      "outputs": [
        {
          "output_type": "stream",
          "text": [
            "/usr/local/lib/python3.7/dist-packages/ipykernel_launcher.py:1: SettingWithCopyWarning: \n",
            "A value is trying to be set on a copy of a slice from a DataFrame.\n",
            "Try using .loc[row_indexer,col_indexer] = value instead\n",
            "\n",
            "See the caveats in the documentation: https://pandas.pydata.org/pandas-docs/stable/user_guide/indexing.html#returning-a-view-versus-a-copy\n",
            "  \"\"\"Entry point for launching an IPython kernel.\n"
          ],
          "name": "stderr"
        }
      ]
    },
    {
      "cell_type": "markdown",
      "metadata": {
        "id": "MewQOqwvcCEF"
      },
      "source": [
        "* Estrutura do dataframe"
      ]
    },
    {
      "cell_type": "code",
      "metadata": {
        "colab": {
          "base_uri": "https://localhost:8080/",
          "height": 0
        },
        "id": "21K7ISycREgU",
        "outputId": "13054bfe-4731-4a85-aa7c-0e70fe4375d6"
      },
      "source": [
        "geral_munic_rj.info()\n"
      ],
      "execution_count": 6,
      "outputs": [
        {
          "output_type": "stream",
          "text": [
            "<class 'pandas.core.frame.DataFrame'>\n",
            "Index: 348 entries, 502606 to 46003\n",
            "Data columns (total 17 columns):\n",
            " #   Column                  Non-Null Count  Dtype         \n",
            "---  ------                  --------------  -----         \n",
            " 0   regiao                  348 non-null    object        \n",
            " 1   estado                  348 non-null    object        \n",
            " 2   municipio               348 non-null    object        \n",
            " 3   coduf                   348 non-null    float64       \n",
            " 4   codmun                  348 non-null    float64       \n",
            " 5   codRegiaoSaude          348 non-null    object        \n",
            " 6   nomeRegiaoSaude         348 non-null    object        \n",
            " 7   data                    348 non-null    datetime64[ns]\n",
            " 8   semanaEpi               348 non-null    float64       \n",
            " 9   populacaoTCU2019        348 non-null    float64       \n",
            " 10  casosAcumulado          348 non-null    float64       \n",
            " 11  casosNovos              348 non-null    int64         \n",
            " 12  obitosAcumulado         348 non-null    int64         \n",
            " 13  obitosNovos             348 non-null    float64       \n",
            " 14  Recuperadosnovos        0 non-null      float64       \n",
            " 15  emAcompanhamentoNovos   0 non-null      float64       \n",
            " 16  interior/metropolitana  348 non-null    float64       \n",
            "dtypes: datetime64[ns](1), float64(9), int64(2), object(5)\n",
            "memory usage: 48.9+ KB\n"
          ],
          "name": "stdout"
        }
      ]
    },
    {
      "cell_type": "code",
      "metadata": {
        "colab": {
          "base_uri": "https://localhost:8080/",
          "height": 609
        },
        "id": "CHHoly83TWbS",
        "outputId": "178ffe5a-d6a6-4e14-850e-f7bff87f67fb"
      },
      "source": [
        "geral_munic_rj "
      ],
      "execution_count": 7,
      "outputs": [
        {
          "output_type": "execute_result",
          "data": {
            "text/html": [
              "<div>\n",
              "<style scoped>\n",
              "    .dataframe tbody tr th:only-of-type {\n",
              "        vertical-align: middle;\n",
              "    }\n",
              "\n",
              "    .dataframe tbody tr th {\n",
              "        vertical-align: top;\n",
              "    }\n",
              "\n",
              "    .dataframe thead th {\n",
              "        text-align: right;\n",
              "    }\n",
              "</style>\n",
              "<table border=\"1\" class=\"dataframe\">\n",
              "  <thead>\n",
              "    <tr style=\"text-align: right;\">\n",
              "      <th></th>\n",
              "      <th>regiao</th>\n",
              "      <th>estado</th>\n",
              "      <th>municipio</th>\n",
              "      <th>coduf</th>\n",
              "      <th>codmun</th>\n",
              "      <th>codRegiaoSaude</th>\n",
              "      <th>nomeRegiaoSaude</th>\n",
              "      <th>data</th>\n",
              "      <th>semanaEpi</th>\n",
              "      <th>populacaoTCU2019</th>\n",
              "      <th>casosAcumulado</th>\n",
              "      <th>casosNovos</th>\n",
              "      <th>obitosAcumulado</th>\n",
              "      <th>obitosNovos</th>\n",
              "      <th>Recuperadosnovos</th>\n",
              "      <th>emAcompanhamentoNovos</th>\n",
              "      <th>interior/metropolitana</th>\n",
              "    </tr>\n",
              "  </thead>\n",
              "  <tbody>\n",
              "    <tr>\n",
              "      <th>502606</th>\n",
              "      <td>Sudeste</td>\n",
              "      <td>RJ</td>\n",
              "      <td>Rio de Janeiro</td>\n",
              "      <td>33.0</td>\n",
              "      <td>330455.0</td>\n",
              "      <td>33005</td>\n",
              "      <td>METROPOLITANA I</td>\n",
              "      <td>2020-08-01</td>\n",
              "      <td>31.0</td>\n",
              "      <td>6718903.0</td>\n",
              "      <td>71792.0</td>\n",
              "      <td>470</td>\n",
              "      <td>8344</td>\n",
              "      <td>34.0</td>\n",
              "      <td>NaN</td>\n",
              "      <td>NaN</td>\n",
              "      <td>1.0</td>\n",
              "    </tr>\n",
              "    <tr>\n",
              "      <th>502607</th>\n",
              "      <td>Sudeste</td>\n",
              "      <td>RJ</td>\n",
              "      <td>Rio de Janeiro</td>\n",
              "      <td>33.0</td>\n",
              "      <td>330455.0</td>\n",
              "      <td>33005</td>\n",
              "      <td>METROPOLITANA I</td>\n",
              "      <td>2020-08-02</td>\n",
              "      <td>32.0</td>\n",
              "      <td>6718903.0</td>\n",
              "      <td>71802.0</td>\n",
              "      <td>10</td>\n",
              "      <td>8358</td>\n",
              "      <td>14.0</td>\n",
              "      <td>NaN</td>\n",
              "      <td>NaN</td>\n",
              "      <td>1.0</td>\n",
              "    </tr>\n",
              "    <tr>\n",
              "      <th>502608</th>\n",
              "      <td>Sudeste</td>\n",
              "      <td>RJ</td>\n",
              "      <td>Rio de Janeiro</td>\n",
              "      <td>33.0</td>\n",
              "      <td>330455.0</td>\n",
              "      <td>33005</td>\n",
              "      <td>METROPOLITANA I</td>\n",
              "      <td>2020-08-03</td>\n",
              "      <td>32.0</td>\n",
              "      <td>6718903.0</td>\n",
              "      <td>72079.0</td>\n",
              "      <td>277</td>\n",
              "      <td>8371</td>\n",
              "      <td>13.0</td>\n",
              "      <td>NaN</td>\n",
              "      <td>NaN</td>\n",
              "      <td>1.0</td>\n",
              "    </tr>\n",
              "    <tr>\n",
              "      <th>502609</th>\n",
              "      <td>Sudeste</td>\n",
              "      <td>RJ</td>\n",
              "      <td>Rio de Janeiro</td>\n",
              "      <td>33.0</td>\n",
              "      <td>330455.0</td>\n",
              "      <td>33005</td>\n",
              "      <td>METROPOLITANA I</td>\n",
              "      <td>2020-08-04</td>\n",
              "      <td>32.0</td>\n",
              "      <td>6718903.0</td>\n",
              "      <td>72722.0</td>\n",
              "      <td>643</td>\n",
              "      <td>8419</td>\n",
              "      <td>48.0</td>\n",
              "      <td>NaN</td>\n",
              "      <td>NaN</td>\n",
              "      <td>1.0</td>\n",
              "    </tr>\n",
              "    <tr>\n",
              "      <th>502610</th>\n",
              "      <td>Sudeste</td>\n",
              "      <td>RJ</td>\n",
              "      <td>Rio de Janeiro</td>\n",
              "      <td>33.0</td>\n",
              "      <td>330455.0</td>\n",
              "      <td>33005</td>\n",
              "      <td>METROPOLITANA I</td>\n",
              "      <td>2020-08-05</td>\n",
              "      <td>32.0</td>\n",
              "      <td>6718903.0</td>\n",
              "      <td>73396.0</td>\n",
              "      <td>674</td>\n",
              "      <td>8499</td>\n",
              "      <td>80.0</td>\n",
              "      <td>NaN</td>\n",
              "      <td>NaN</td>\n",
              "      <td>1.0</td>\n",
              "    </tr>\n",
              "    <tr>\n",
              "      <th>...</th>\n",
              "      <td>...</td>\n",
              "      <td>...</td>\n",
              "      <td>...</td>\n",
              "      <td>...</td>\n",
              "      <td>...</td>\n",
              "      <td>...</td>\n",
              "      <td>...</td>\n",
              "      <td>...</td>\n",
              "      <td>...</td>\n",
              "      <td>...</td>\n",
              "      <td>...</td>\n",
              "      <td>...</td>\n",
              "      <td>...</td>\n",
              "      <td>...</td>\n",
              "      <td>...</td>\n",
              "      <td>...</td>\n",
              "      <td>...</td>\n",
              "    </tr>\n",
              "    <tr>\n",
              "      <th>45999</th>\n",
              "      <td>Sudeste</td>\n",
              "      <td>RJ</td>\n",
              "      <td>Rio de Janeiro</td>\n",
              "      <td>33.0</td>\n",
              "      <td>330455.0</td>\n",
              "      <td>33005</td>\n",
              "      <td>METROPOLITANA I</td>\n",
              "      <td>2021-07-10</td>\n",
              "      <td>27.0</td>\n",
              "      <td>6718903.0</td>\n",
              "      <td>375242.0</td>\n",
              "      <td>1466</td>\n",
              "      <td>29175</td>\n",
              "      <td>133.0</td>\n",
              "      <td>NaN</td>\n",
              "      <td>NaN</td>\n",
              "      <td>1.0</td>\n",
              "    </tr>\n",
              "    <tr>\n",
              "      <th>46000</th>\n",
              "      <td>Sudeste</td>\n",
              "      <td>RJ</td>\n",
              "      <td>Rio de Janeiro</td>\n",
              "      <td>33.0</td>\n",
              "      <td>330455.0</td>\n",
              "      <td>33005</td>\n",
              "      <td>METROPOLITANA I</td>\n",
              "      <td>2021-07-11</td>\n",
              "      <td>28.0</td>\n",
              "      <td>6718903.0</td>\n",
              "      <td>375616.0</td>\n",
              "      <td>374</td>\n",
              "      <td>29185</td>\n",
              "      <td>10.0</td>\n",
              "      <td>NaN</td>\n",
              "      <td>NaN</td>\n",
              "      <td>1.0</td>\n",
              "    </tr>\n",
              "    <tr>\n",
              "      <th>46001</th>\n",
              "      <td>Sudeste</td>\n",
              "      <td>RJ</td>\n",
              "      <td>Rio de Janeiro</td>\n",
              "      <td>33.0</td>\n",
              "      <td>330455.0</td>\n",
              "      <td>33005</td>\n",
              "      <td>METROPOLITANA I</td>\n",
              "      <td>2021-07-12</td>\n",
              "      <td>28.0</td>\n",
              "      <td>6718903.0</td>\n",
              "      <td>375908.0</td>\n",
              "      <td>292</td>\n",
              "      <td>29192</td>\n",
              "      <td>7.0</td>\n",
              "      <td>NaN</td>\n",
              "      <td>NaN</td>\n",
              "      <td>1.0</td>\n",
              "    </tr>\n",
              "    <tr>\n",
              "      <th>46002</th>\n",
              "      <td>Sudeste</td>\n",
              "      <td>RJ</td>\n",
              "      <td>Rio de Janeiro</td>\n",
              "      <td>33.0</td>\n",
              "      <td>330455.0</td>\n",
              "      <td>33005</td>\n",
              "      <td>METROPOLITANA I</td>\n",
              "      <td>2021-07-13</td>\n",
              "      <td>28.0</td>\n",
              "      <td>6718903.0</td>\n",
              "      <td>376763.0</td>\n",
              "      <td>855</td>\n",
              "      <td>29241</td>\n",
              "      <td>49.0</td>\n",
              "      <td>NaN</td>\n",
              "      <td>NaN</td>\n",
              "      <td>1.0</td>\n",
              "    </tr>\n",
              "    <tr>\n",
              "      <th>46003</th>\n",
              "      <td>Sudeste</td>\n",
              "      <td>RJ</td>\n",
              "      <td>Rio de Janeiro</td>\n",
              "      <td>33.0</td>\n",
              "      <td>330455.0</td>\n",
              "      <td>33005</td>\n",
              "      <td>METROPOLITANA I</td>\n",
              "      <td>2021-07-14</td>\n",
              "      <td>28.0</td>\n",
              "      <td>6718903.0</td>\n",
              "      <td>378301.0</td>\n",
              "      <td>1538</td>\n",
              "      <td>29295</td>\n",
              "      <td>54.0</td>\n",
              "      <td>NaN</td>\n",
              "      <td>NaN</td>\n",
              "      <td>1.0</td>\n",
              "    </tr>\n",
              "  </tbody>\n",
              "</table>\n",
              "<p>348 rows × 17 columns</p>\n",
              "</div>"
            ],
            "text/plain": [
              "         regiao estado  ... emAcompanhamentoNovos  interior/metropolitana\n",
              "502606  Sudeste     RJ  ...                   NaN                     1.0\n",
              "502607  Sudeste     RJ  ...                   NaN                     1.0\n",
              "502608  Sudeste     RJ  ...                   NaN                     1.0\n",
              "502609  Sudeste     RJ  ...                   NaN                     1.0\n",
              "502610  Sudeste     RJ  ...                   NaN                     1.0\n",
              "...         ...    ...  ...                   ...                     ...\n",
              "45999   Sudeste     RJ  ...                   NaN                     1.0\n",
              "46000   Sudeste     RJ  ...                   NaN                     1.0\n",
              "46001   Sudeste     RJ  ...                   NaN                     1.0\n",
              "46002   Sudeste     RJ  ...                   NaN                     1.0\n",
              "46003   Sudeste     RJ  ...                   NaN                     1.0\n",
              "\n",
              "[348 rows x 17 columns]"
            ]
          },
          "metadata": {
            "tags": []
          },
          "execution_count": 7
        }
      ]
    },
    {
      "cell_type": "markdown",
      "metadata": {
        "id": "BYx5dZemdi_y"
      },
      "source": [
        "### Métricas do município do Rio de Janeiro  **Junho 2021**"
      ]
    },
    {
      "cell_type": "code",
      "metadata": {
        "id": "PFWUb2JmUwYk",
        "colab": {
          "base_uri": "https://localhost:8080/",
          "height": 1509
        },
        "outputId": "544f34a7-aaf8-418a-f9c4-a4e0ccc80db1"
      },
      "source": [
        "mun_rj_junho_2021 = geral_munic_rj[(geral_munic_rj['data'] >= '2021-06-01' ) & (geral_munic_rj['data'] <= '2021-06-30' )]\n",
        "mun_rj_junho_2021"
      ],
      "execution_count": 8,
      "outputs": [
        {
          "output_type": "execute_result",
          "data": {
            "text/html": [
              "<div>\n",
              "<style scoped>\n",
              "    .dataframe tbody tr th:only-of-type {\n",
              "        vertical-align: middle;\n",
              "    }\n",
              "\n",
              "    .dataframe tbody tr th {\n",
              "        vertical-align: top;\n",
              "    }\n",
              "\n",
              "    .dataframe thead th {\n",
              "        text-align: right;\n",
              "    }\n",
              "</style>\n",
              "<table border=\"1\" class=\"dataframe\">\n",
              "  <thead>\n",
              "    <tr style=\"text-align: right;\">\n",
              "      <th></th>\n",
              "      <th>regiao</th>\n",
              "      <th>estado</th>\n",
              "      <th>municipio</th>\n",
              "      <th>coduf</th>\n",
              "      <th>codmun</th>\n",
              "      <th>codRegiaoSaude</th>\n",
              "      <th>nomeRegiaoSaude</th>\n",
              "      <th>data</th>\n",
              "      <th>semanaEpi</th>\n",
              "      <th>populacaoTCU2019</th>\n",
              "      <th>casosAcumulado</th>\n",
              "      <th>casosNovos</th>\n",
              "      <th>obitosAcumulado</th>\n",
              "      <th>obitosNovos</th>\n",
              "      <th>Recuperadosnovos</th>\n",
              "      <th>emAcompanhamentoNovos</th>\n",
              "      <th>interior/metropolitana</th>\n",
              "    </tr>\n",
              "  </thead>\n",
              "  <tbody>\n",
              "    <tr>\n",
              "      <th>594737</th>\n",
              "      <td>Sudeste</td>\n",
              "      <td>RJ</td>\n",
              "      <td>Rio de Janeiro</td>\n",
              "      <td>33.0</td>\n",
              "      <td>330455.0</td>\n",
              "      <td>33005</td>\n",
              "      <td>METROPOLITANA I</td>\n",
              "      <td>2021-06-01</td>\n",
              "      <td>22.0</td>\n",
              "      <td>6718903.0</td>\n",
              "      <td>326549.0</td>\n",
              "      <td>2004</td>\n",
              "      <td>26437</td>\n",
              "      <td>137.0</td>\n",
              "      <td>NaN</td>\n",
              "      <td>NaN</td>\n",
              "      <td>1.0</td>\n",
              "    </tr>\n",
              "    <tr>\n",
              "      <th>594738</th>\n",
              "      <td>Sudeste</td>\n",
              "      <td>RJ</td>\n",
              "      <td>Rio de Janeiro</td>\n",
              "      <td>33.0</td>\n",
              "      <td>330455.0</td>\n",
              "      <td>33005</td>\n",
              "      <td>METROPOLITANA I</td>\n",
              "      <td>2021-06-02</td>\n",
              "      <td>22.0</td>\n",
              "      <td>6718903.0</td>\n",
              "      <td>329059.0</td>\n",
              "      <td>2510</td>\n",
              "      <td>26555</td>\n",
              "      <td>118.0</td>\n",
              "      <td>NaN</td>\n",
              "      <td>NaN</td>\n",
              "      <td>1.0</td>\n",
              "    </tr>\n",
              "    <tr>\n",
              "      <th>594739</th>\n",
              "      <td>Sudeste</td>\n",
              "      <td>RJ</td>\n",
              "      <td>Rio de Janeiro</td>\n",
              "      <td>33.0</td>\n",
              "      <td>330455.0</td>\n",
              "      <td>33005</td>\n",
              "      <td>METROPOLITANA I</td>\n",
              "      <td>2021-06-03</td>\n",
              "      <td>22.0</td>\n",
              "      <td>6718903.0</td>\n",
              "      <td>330941.0</td>\n",
              "      <td>1882</td>\n",
              "      <td>26667</td>\n",
              "      <td>112.0</td>\n",
              "      <td>NaN</td>\n",
              "      <td>NaN</td>\n",
              "      <td>1.0</td>\n",
              "    </tr>\n",
              "    <tr>\n",
              "      <th>594740</th>\n",
              "      <td>Sudeste</td>\n",
              "      <td>RJ</td>\n",
              "      <td>Rio de Janeiro</td>\n",
              "      <td>33.0</td>\n",
              "      <td>330455.0</td>\n",
              "      <td>33005</td>\n",
              "      <td>METROPOLITANA I</td>\n",
              "      <td>2021-06-04</td>\n",
              "      <td>22.0</td>\n",
              "      <td>6718903.0</td>\n",
              "      <td>331689.0</td>\n",
              "      <td>748</td>\n",
              "      <td>26689</td>\n",
              "      <td>22.0</td>\n",
              "      <td>NaN</td>\n",
              "      <td>NaN</td>\n",
              "      <td>1.0</td>\n",
              "    </tr>\n",
              "    <tr>\n",
              "      <th>594741</th>\n",
              "      <td>Sudeste</td>\n",
              "      <td>RJ</td>\n",
              "      <td>Rio de Janeiro</td>\n",
              "      <td>33.0</td>\n",
              "      <td>330455.0</td>\n",
              "      <td>33005</td>\n",
              "      <td>METROPOLITANA I</td>\n",
              "      <td>2021-06-05</td>\n",
              "      <td>22.0</td>\n",
              "      <td>6718903.0</td>\n",
              "      <td>333467.0</td>\n",
              "      <td>1778</td>\n",
              "      <td>26765</td>\n",
              "      <td>76.0</td>\n",
              "      <td>NaN</td>\n",
              "      <td>NaN</td>\n",
              "      <td>1.0</td>\n",
              "    </tr>\n",
              "    <tr>\n",
              "      <th>594742</th>\n",
              "      <td>Sudeste</td>\n",
              "      <td>RJ</td>\n",
              "      <td>Rio de Janeiro</td>\n",
              "      <td>33.0</td>\n",
              "      <td>330455.0</td>\n",
              "      <td>33005</td>\n",
              "      <td>METROPOLITANA I</td>\n",
              "      <td>2021-06-06</td>\n",
              "      <td>23.0</td>\n",
              "      <td>6718903.0</td>\n",
              "      <td>333949.0</td>\n",
              "      <td>482</td>\n",
              "      <td>26765</td>\n",
              "      <td>0.0</td>\n",
              "      <td>NaN</td>\n",
              "      <td>NaN</td>\n",
              "      <td>1.0</td>\n",
              "    </tr>\n",
              "    <tr>\n",
              "      <th>594743</th>\n",
              "      <td>Sudeste</td>\n",
              "      <td>RJ</td>\n",
              "      <td>Rio de Janeiro</td>\n",
              "      <td>33.0</td>\n",
              "      <td>330455.0</td>\n",
              "      <td>33005</td>\n",
              "      <td>METROPOLITANA I</td>\n",
              "      <td>2021-06-07</td>\n",
              "      <td>23.0</td>\n",
              "      <td>6718903.0</td>\n",
              "      <td>334158.0</td>\n",
              "      <td>209</td>\n",
              "      <td>26765</td>\n",
              "      <td>0.0</td>\n",
              "      <td>NaN</td>\n",
              "      <td>NaN</td>\n",
              "      <td>1.0</td>\n",
              "    </tr>\n",
              "    <tr>\n",
              "      <th>594744</th>\n",
              "      <td>Sudeste</td>\n",
              "      <td>RJ</td>\n",
              "      <td>Rio de Janeiro</td>\n",
              "      <td>33.0</td>\n",
              "      <td>330455.0</td>\n",
              "      <td>33005</td>\n",
              "      <td>METROPOLITANA I</td>\n",
              "      <td>2021-06-08</td>\n",
              "      <td>23.0</td>\n",
              "      <td>6718903.0</td>\n",
              "      <td>336235.0</td>\n",
              "      <td>2077</td>\n",
              "      <td>26933</td>\n",
              "      <td>168.0</td>\n",
              "      <td>NaN</td>\n",
              "      <td>NaN</td>\n",
              "      <td>1.0</td>\n",
              "    </tr>\n",
              "    <tr>\n",
              "      <th>594745</th>\n",
              "      <td>Sudeste</td>\n",
              "      <td>RJ</td>\n",
              "      <td>Rio de Janeiro</td>\n",
              "      <td>33.0</td>\n",
              "      <td>330455.0</td>\n",
              "      <td>33005</td>\n",
              "      <td>METROPOLITANA I</td>\n",
              "      <td>2021-06-09</td>\n",
              "      <td>23.0</td>\n",
              "      <td>6718903.0</td>\n",
              "      <td>338716.0</td>\n",
              "      <td>2481</td>\n",
              "      <td>27036</td>\n",
              "      <td>103.0</td>\n",
              "      <td>NaN</td>\n",
              "      <td>NaN</td>\n",
              "      <td>1.0</td>\n",
              "    </tr>\n",
              "    <tr>\n",
              "      <th>594746</th>\n",
              "      <td>Sudeste</td>\n",
              "      <td>RJ</td>\n",
              "      <td>Rio de Janeiro</td>\n",
              "      <td>33.0</td>\n",
              "      <td>330455.0</td>\n",
              "      <td>33005</td>\n",
              "      <td>METROPOLITANA I</td>\n",
              "      <td>2021-06-10</td>\n",
              "      <td>23.0</td>\n",
              "      <td>6718903.0</td>\n",
              "      <td>340672.0</td>\n",
              "      <td>1956</td>\n",
              "      <td>27173</td>\n",
              "      <td>137.0</td>\n",
              "      <td>NaN</td>\n",
              "      <td>NaN</td>\n",
              "      <td>1.0</td>\n",
              "    </tr>\n",
              "    <tr>\n",
              "      <th>594747</th>\n",
              "      <td>Sudeste</td>\n",
              "      <td>RJ</td>\n",
              "      <td>Rio de Janeiro</td>\n",
              "      <td>33.0</td>\n",
              "      <td>330455.0</td>\n",
              "      <td>33005</td>\n",
              "      <td>METROPOLITANA I</td>\n",
              "      <td>2021-06-11</td>\n",
              "      <td>23.0</td>\n",
              "      <td>6718903.0</td>\n",
              "      <td>342568.0</td>\n",
              "      <td>1896</td>\n",
              "      <td>27297</td>\n",
              "      <td>124.0</td>\n",
              "      <td>NaN</td>\n",
              "      <td>NaN</td>\n",
              "      <td>1.0</td>\n",
              "    </tr>\n",
              "    <tr>\n",
              "      <th>594748</th>\n",
              "      <td>Sudeste</td>\n",
              "      <td>RJ</td>\n",
              "      <td>Rio de Janeiro</td>\n",
              "      <td>33.0</td>\n",
              "      <td>330455.0</td>\n",
              "      <td>33005</td>\n",
              "      <td>METROPOLITANA I</td>\n",
              "      <td>2021-06-12</td>\n",
              "      <td>23.0</td>\n",
              "      <td>6718903.0</td>\n",
              "      <td>344623.0</td>\n",
              "      <td>2055</td>\n",
              "      <td>27397</td>\n",
              "      <td>100.0</td>\n",
              "      <td>NaN</td>\n",
              "      <td>NaN</td>\n",
              "      <td>1.0</td>\n",
              "    </tr>\n",
              "    <tr>\n",
              "      <th>594749</th>\n",
              "      <td>Sudeste</td>\n",
              "      <td>RJ</td>\n",
              "      <td>Rio de Janeiro</td>\n",
              "      <td>33.0</td>\n",
              "      <td>330455.0</td>\n",
              "      <td>33005</td>\n",
              "      <td>METROPOLITANA I</td>\n",
              "      <td>2021-06-13</td>\n",
              "      <td>24.0</td>\n",
              "      <td>6718903.0</td>\n",
              "      <td>345044.0</td>\n",
              "      <td>421</td>\n",
              "      <td>27417</td>\n",
              "      <td>20.0</td>\n",
              "      <td>NaN</td>\n",
              "      <td>NaN</td>\n",
              "      <td>1.0</td>\n",
              "    </tr>\n",
              "    <tr>\n",
              "      <th>594750</th>\n",
              "      <td>Sudeste</td>\n",
              "      <td>RJ</td>\n",
              "      <td>Rio de Janeiro</td>\n",
              "      <td>33.0</td>\n",
              "      <td>330455.0</td>\n",
              "      <td>33005</td>\n",
              "      <td>METROPOLITANA I</td>\n",
              "      <td>2021-06-14</td>\n",
              "      <td>24.0</td>\n",
              "      <td>6718903.0</td>\n",
              "      <td>345256.0</td>\n",
              "      <td>212</td>\n",
              "      <td>27428</td>\n",
              "      <td>11.0</td>\n",
              "      <td>NaN</td>\n",
              "      <td>NaN</td>\n",
              "      <td>1.0</td>\n",
              "    </tr>\n",
              "    <tr>\n",
              "      <th>594751</th>\n",
              "      <td>Sudeste</td>\n",
              "      <td>RJ</td>\n",
              "      <td>Rio de Janeiro</td>\n",
              "      <td>33.0</td>\n",
              "      <td>330455.0</td>\n",
              "      <td>33005</td>\n",
              "      <td>METROPOLITANA I</td>\n",
              "      <td>2021-06-15</td>\n",
              "      <td>24.0</td>\n",
              "      <td>6718903.0</td>\n",
              "      <td>347120.0</td>\n",
              "      <td>1864</td>\n",
              "      <td>27548</td>\n",
              "      <td>120.0</td>\n",
              "      <td>NaN</td>\n",
              "      <td>NaN</td>\n",
              "      <td>1.0</td>\n",
              "    </tr>\n",
              "    <tr>\n",
              "      <th>594752</th>\n",
              "      <td>Sudeste</td>\n",
              "      <td>RJ</td>\n",
              "      <td>Rio de Janeiro</td>\n",
              "      <td>33.0</td>\n",
              "      <td>330455.0</td>\n",
              "      <td>33005</td>\n",
              "      <td>METROPOLITANA I</td>\n",
              "      <td>2021-06-16</td>\n",
              "      <td>24.0</td>\n",
              "      <td>6718903.0</td>\n",
              "      <td>349605.0</td>\n",
              "      <td>2485</td>\n",
              "      <td>27657</td>\n",
              "      <td>109.0</td>\n",
              "      <td>NaN</td>\n",
              "      <td>NaN</td>\n",
              "      <td>1.0</td>\n",
              "    </tr>\n",
              "    <tr>\n",
              "      <th>594753</th>\n",
              "      <td>Sudeste</td>\n",
              "      <td>RJ</td>\n",
              "      <td>Rio de Janeiro</td>\n",
              "      <td>33.0</td>\n",
              "      <td>330455.0</td>\n",
              "      <td>33005</td>\n",
              "      <td>METROPOLITANA I</td>\n",
              "      <td>2021-06-17</td>\n",
              "      <td>24.0</td>\n",
              "      <td>6718903.0</td>\n",
              "      <td>352190.0</td>\n",
              "      <td>2585</td>\n",
              "      <td>27781</td>\n",
              "      <td>124.0</td>\n",
              "      <td>NaN</td>\n",
              "      <td>NaN</td>\n",
              "      <td>1.0</td>\n",
              "    </tr>\n",
              "    <tr>\n",
              "      <th>594754</th>\n",
              "      <td>Sudeste</td>\n",
              "      <td>RJ</td>\n",
              "      <td>Rio de Janeiro</td>\n",
              "      <td>33.0</td>\n",
              "      <td>330455.0</td>\n",
              "      <td>33005</td>\n",
              "      <td>METROPOLITANA I</td>\n",
              "      <td>2021-06-18</td>\n",
              "      <td>24.0</td>\n",
              "      <td>6718903.0</td>\n",
              "      <td>354143.0</td>\n",
              "      <td>1953</td>\n",
              "      <td>27832</td>\n",
              "      <td>51.0</td>\n",
              "      <td>NaN</td>\n",
              "      <td>NaN</td>\n",
              "      <td>1.0</td>\n",
              "    </tr>\n",
              "    <tr>\n",
              "      <th>594755</th>\n",
              "      <td>Sudeste</td>\n",
              "      <td>RJ</td>\n",
              "      <td>Rio de Janeiro</td>\n",
              "      <td>33.0</td>\n",
              "      <td>330455.0</td>\n",
              "      <td>33005</td>\n",
              "      <td>METROPOLITANA I</td>\n",
              "      <td>2021-06-19</td>\n",
              "      <td>24.0</td>\n",
              "      <td>6718903.0</td>\n",
              "      <td>355773.0</td>\n",
              "      <td>1630</td>\n",
              "      <td>27930</td>\n",
              "      <td>98.0</td>\n",
              "      <td>NaN</td>\n",
              "      <td>NaN</td>\n",
              "      <td>1.0</td>\n",
              "    </tr>\n",
              "    <tr>\n",
              "      <th>594756</th>\n",
              "      <td>Sudeste</td>\n",
              "      <td>RJ</td>\n",
              "      <td>Rio de Janeiro</td>\n",
              "      <td>33.0</td>\n",
              "      <td>330455.0</td>\n",
              "      <td>33005</td>\n",
              "      <td>METROPOLITANA I</td>\n",
              "      <td>2021-06-20</td>\n",
              "      <td>25.0</td>\n",
              "      <td>6718903.0</td>\n",
              "      <td>356028.0</td>\n",
              "      <td>255</td>\n",
              "      <td>27989</td>\n",
              "      <td>59.0</td>\n",
              "      <td>NaN</td>\n",
              "      <td>NaN</td>\n",
              "      <td>1.0</td>\n",
              "    </tr>\n",
              "    <tr>\n",
              "      <th>594757</th>\n",
              "      <td>Sudeste</td>\n",
              "      <td>RJ</td>\n",
              "      <td>Rio de Janeiro</td>\n",
              "      <td>33.0</td>\n",
              "      <td>330455.0</td>\n",
              "      <td>33005</td>\n",
              "      <td>METROPOLITANA I</td>\n",
              "      <td>2021-06-21</td>\n",
              "      <td>25.0</td>\n",
              "      <td>6718903.0</td>\n",
              "      <td>356196.0</td>\n",
              "      <td>168</td>\n",
              "      <td>27997</td>\n",
              "      <td>8.0</td>\n",
              "      <td>NaN</td>\n",
              "      <td>NaN</td>\n",
              "      <td>1.0</td>\n",
              "    </tr>\n",
              "    <tr>\n",
              "      <th>594758</th>\n",
              "      <td>Sudeste</td>\n",
              "      <td>RJ</td>\n",
              "      <td>Rio de Janeiro</td>\n",
              "      <td>33.0</td>\n",
              "      <td>330455.0</td>\n",
              "      <td>33005</td>\n",
              "      <td>METROPOLITANA I</td>\n",
              "      <td>2021-06-22</td>\n",
              "      <td>25.0</td>\n",
              "      <td>6718903.0</td>\n",
              "      <td>358329.0</td>\n",
              "      <td>2133</td>\n",
              "      <td>28103</td>\n",
              "      <td>106.0</td>\n",
              "      <td>NaN</td>\n",
              "      <td>NaN</td>\n",
              "      <td>1.0</td>\n",
              "    </tr>\n",
              "    <tr>\n",
              "      <th>594759</th>\n",
              "      <td>Sudeste</td>\n",
              "      <td>RJ</td>\n",
              "      <td>Rio de Janeiro</td>\n",
              "      <td>33.0</td>\n",
              "      <td>330455.0</td>\n",
              "      <td>33005</td>\n",
              "      <td>METROPOLITANA I</td>\n",
              "      <td>2021-06-23</td>\n",
              "      <td>25.0</td>\n",
              "      <td>6718903.0</td>\n",
              "      <td>360465.0</td>\n",
              "      <td>2136</td>\n",
              "      <td>28209</td>\n",
              "      <td>106.0</td>\n",
              "      <td>NaN</td>\n",
              "      <td>NaN</td>\n",
              "      <td>1.0</td>\n",
              "    </tr>\n",
              "    <tr>\n",
              "      <th>594760</th>\n",
              "      <td>Sudeste</td>\n",
              "      <td>RJ</td>\n",
              "      <td>Rio de Janeiro</td>\n",
              "      <td>33.0</td>\n",
              "      <td>330455.0</td>\n",
              "      <td>33005</td>\n",
              "      <td>METROPOLITANA I</td>\n",
              "      <td>2021-06-24</td>\n",
              "      <td>25.0</td>\n",
              "      <td>6718903.0</td>\n",
              "      <td>362131.0</td>\n",
              "      <td>1666</td>\n",
              "      <td>28270</td>\n",
              "      <td>61.0</td>\n",
              "      <td>NaN</td>\n",
              "      <td>NaN</td>\n",
              "      <td>1.0</td>\n",
              "    </tr>\n",
              "    <tr>\n",
              "      <th>594761</th>\n",
              "      <td>Sudeste</td>\n",
              "      <td>RJ</td>\n",
              "      <td>Rio de Janeiro</td>\n",
              "      <td>33.0</td>\n",
              "      <td>330455.0</td>\n",
              "      <td>33005</td>\n",
              "      <td>METROPOLITANA I</td>\n",
              "      <td>2021-06-25</td>\n",
              "      <td>25.0</td>\n",
              "      <td>6718903.0</td>\n",
              "      <td>363968.0</td>\n",
              "      <td>1837</td>\n",
              "      <td>28337</td>\n",
              "      <td>67.0</td>\n",
              "      <td>NaN</td>\n",
              "      <td>NaN</td>\n",
              "      <td>1.0</td>\n",
              "    </tr>\n",
              "    <tr>\n",
              "      <th>594762</th>\n",
              "      <td>Sudeste</td>\n",
              "      <td>RJ</td>\n",
              "      <td>Rio de Janeiro</td>\n",
              "      <td>33.0</td>\n",
              "      <td>330455.0</td>\n",
              "      <td>33005</td>\n",
              "      <td>METROPOLITANA I</td>\n",
              "      <td>2021-06-26</td>\n",
              "      <td>25.0</td>\n",
              "      <td>6718903.0</td>\n",
              "      <td>365506.0</td>\n",
              "      <td>1538</td>\n",
              "      <td>28405</td>\n",
              "      <td>68.0</td>\n",
              "      <td>NaN</td>\n",
              "      <td>NaN</td>\n",
              "      <td>1.0</td>\n",
              "    </tr>\n",
              "    <tr>\n",
              "      <th>594763</th>\n",
              "      <td>Sudeste</td>\n",
              "      <td>RJ</td>\n",
              "      <td>Rio de Janeiro</td>\n",
              "      <td>33.0</td>\n",
              "      <td>330455.0</td>\n",
              "      <td>33005</td>\n",
              "      <td>METROPOLITANA I</td>\n",
              "      <td>2021-06-27</td>\n",
              "      <td>26.0</td>\n",
              "      <td>6718903.0</td>\n",
              "      <td>365892.0</td>\n",
              "      <td>386</td>\n",
              "      <td>28408</td>\n",
              "      <td>3.0</td>\n",
              "      <td>NaN</td>\n",
              "      <td>NaN</td>\n",
              "      <td>1.0</td>\n",
              "    </tr>\n",
              "    <tr>\n",
              "      <th>594764</th>\n",
              "      <td>Sudeste</td>\n",
              "      <td>RJ</td>\n",
              "      <td>Rio de Janeiro</td>\n",
              "      <td>33.0</td>\n",
              "      <td>330455.0</td>\n",
              "      <td>33005</td>\n",
              "      <td>METROPOLITANA I</td>\n",
              "      <td>2021-06-28</td>\n",
              "      <td>26.0</td>\n",
              "      <td>6718903.0</td>\n",
              "      <td>365927.0</td>\n",
              "      <td>35</td>\n",
              "      <td>28418</td>\n",
              "      <td>10.0</td>\n",
              "      <td>NaN</td>\n",
              "      <td>NaN</td>\n",
              "      <td>1.0</td>\n",
              "    </tr>\n",
              "    <tr>\n",
              "      <th>594765</th>\n",
              "      <td>Sudeste</td>\n",
              "      <td>RJ</td>\n",
              "      <td>Rio de Janeiro</td>\n",
              "      <td>33.0</td>\n",
              "      <td>330455.0</td>\n",
              "      <td>33005</td>\n",
              "      <td>METROPOLITANA I</td>\n",
              "      <td>2021-06-29</td>\n",
              "      <td>26.0</td>\n",
              "      <td>6718903.0</td>\n",
              "      <td>367347.0</td>\n",
              "      <td>1420</td>\n",
              "      <td>28506</td>\n",
              "      <td>88.0</td>\n",
              "      <td>NaN</td>\n",
              "      <td>NaN</td>\n",
              "      <td>1.0</td>\n",
              "    </tr>\n",
              "    <tr>\n",
              "      <th>594766</th>\n",
              "      <td>Sudeste</td>\n",
              "      <td>RJ</td>\n",
              "      <td>Rio de Janeiro</td>\n",
              "      <td>33.0</td>\n",
              "      <td>330455.0</td>\n",
              "      <td>33005</td>\n",
              "      <td>METROPOLITANA I</td>\n",
              "      <td>2021-06-30</td>\n",
              "      <td>26.0</td>\n",
              "      <td>6718903.0</td>\n",
              "      <td>367579.0</td>\n",
              "      <td>232</td>\n",
              "      <td>28616</td>\n",
              "      <td>110.0</td>\n",
              "      <td>NaN</td>\n",
              "      <td>NaN</td>\n",
              "      <td>1.0</td>\n",
              "    </tr>\n",
              "  </tbody>\n",
              "</table>\n",
              "</div>"
            ],
            "text/plain": [
              "         regiao estado  ... emAcompanhamentoNovos  interior/metropolitana\n",
              "594737  Sudeste     RJ  ...                   NaN                     1.0\n",
              "594738  Sudeste     RJ  ...                   NaN                     1.0\n",
              "594739  Sudeste     RJ  ...                   NaN                     1.0\n",
              "594740  Sudeste     RJ  ...                   NaN                     1.0\n",
              "594741  Sudeste     RJ  ...                   NaN                     1.0\n",
              "594742  Sudeste     RJ  ...                   NaN                     1.0\n",
              "594743  Sudeste     RJ  ...                   NaN                     1.0\n",
              "594744  Sudeste     RJ  ...                   NaN                     1.0\n",
              "594745  Sudeste     RJ  ...                   NaN                     1.0\n",
              "594746  Sudeste     RJ  ...                   NaN                     1.0\n",
              "594747  Sudeste     RJ  ...                   NaN                     1.0\n",
              "594748  Sudeste     RJ  ...                   NaN                     1.0\n",
              "594749  Sudeste     RJ  ...                   NaN                     1.0\n",
              "594750  Sudeste     RJ  ...                   NaN                     1.0\n",
              "594751  Sudeste     RJ  ...                   NaN                     1.0\n",
              "594752  Sudeste     RJ  ...                   NaN                     1.0\n",
              "594753  Sudeste     RJ  ...                   NaN                     1.0\n",
              "594754  Sudeste     RJ  ...                   NaN                     1.0\n",
              "594755  Sudeste     RJ  ...                   NaN                     1.0\n",
              "594756  Sudeste     RJ  ...                   NaN                     1.0\n",
              "594757  Sudeste     RJ  ...                   NaN                     1.0\n",
              "594758  Sudeste     RJ  ...                   NaN                     1.0\n",
              "594759  Sudeste     RJ  ...                   NaN                     1.0\n",
              "594760  Sudeste     RJ  ...                   NaN                     1.0\n",
              "594761  Sudeste     RJ  ...                   NaN                     1.0\n",
              "594762  Sudeste     RJ  ...                   NaN                     1.0\n",
              "594763  Sudeste     RJ  ...                   NaN                     1.0\n",
              "594764  Sudeste     RJ  ...                   NaN                     1.0\n",
              "594765  Sudeste     RJ  ...                   NaN                     1.0\n",
              "594766  Sudeste     RJ  ...                   NaN                     1.0\n",
              "\n",
              "[30 rows x 17 columns]"
            ]
          },
          "metadata": {
            "tags": []
          },
          "execution_count": 8
        }
      ]
    },
    {
      "cell_type": "markdown",
      "metadata": {
        "id": "83AAuTW1dvab"
      },
      "source": [
        ""
      ]
    },
    {
      "cell_type": "markdown",
      "metadata": {
        "id": "-R80mvetthSd"
      },
      "source": [
        "* <font color=\"ffd11b\">**Média de Casos no Mês de Junho 2021**"
      ]
    },
    {
      "cell_type": "code",
      "metadata": {
        "colab": {
          "base_uri": "https://localhost:8080/",
          "height": 0
        },
        "id": "ew6kRGJYuXvy",
        "outputId": "c5ec9147-eec7-41ed-9ad2-ed0592125595"
      },
      "source": [
        "mun_rj_junho_2021_media_casos =  mun_rj_junho_2021['casosNovos'].mean()\n",
        "mun_rj_junho_2021_media_casos "
      ],
      "execution_count": 9,
      "outputs": [
        {
          "output_type": "execute_result",
          "data": {
            "text/plain": [
              "1434.4666666666667"
            ]
          },
          "metadata": {
            "tags": []
          },
          "execution_count": 9
        }
      ]
    },
    {
      "cell_type": "markdown",
      "metadata": {
        "id": "p_PNtWtVt9b0"
      },
      "source": [
        "* <font color=\"ffd11b\"> **Desvio padrão de Casos no Mês de Junho 2021**\n"
      ]
    },
    {
      "cell_type": "code",
      "metadata": {
        "colab": {
          "base_uri": "https://localhost:8080/",
          "height": 0
        },
        "id": "ARbrxv5tv9Me",
        "outputId": "c167a39e-c5ae-4362-a321-8e6c3fa0b8d6"
      },
      "source": [
        "mun_rj_junho_2021_desvio_casos =  mun_rj_junho_2021['casosNovos'].std()\n",
        "mun_rj_junho_2021_desvio_casos"
      ],
      "execution_count": 10,
      "outputs": [
        {
          "output_type": "execute_result",
          "data": {
            "text/plain": [
              "855.0811509515595"
            ]
          },
          "metadata": {
            "tags": []
          },
          "execution_count": 10
        }
      ]
    },
    {
      "cell_type": "markdown",
      "metadata": {
        "id": "RRUcHGigt8-U"
      },
      "source": [
        "* <font color=\"ffd11b\"> **Móda de Casos no Mês de Junho 2021**\n"
      ]
    },
    {
      "cell_type": "code",
      "metadata": {
        "colab": {
          "base_uri": "https://localhost:8080/",
          "height": 0
        },
        "id": "ANN-43mhwJx9",
        "outputId": "b75753e3-777e-498e-896a-0b96dd0a7152"
      },
      "source": [
        "mun_rj_junho_2021_moda_casos =  mun_rj_junho_2021['casosNovos'].mode()\n",
        "mun_rj_junho_2021_moda_casos"
      ],
      "execution_count": 11,
      "outputs": [
        {
          "output_type": "execute_result",
          "data": {
            "text/plain": [
              "0       35\n",
              "1      168\n",
              "2      209\n",
              "3      212\n",
              "4      232\n",
              "5      255\n",
              "6      386\n",
              "7      421\n",
              "8      482\n",
              "9      748\n",
              "10    1420\n",
              "11    1538\n",
              "12    1630\n",
              "13    1666\n",
              "14    1778\n",
              "15    1837\n",
              "16    1864\n",
              "17    1882\n",
              "18    1896\n",
              "19    1953\n",
              "20    1956\n",
              "21    2004\n",
              "22    2055\n",
              "23    2077\n",
              "24    2133\n",
              "25    2136\n",
              "26    2481\n",
              "27    2485\n",
              "28    2510\n",
              "29    2585\n",
              "dtype: int64"
            ]
          },
          "metadata": {
            "tags": []
          },
          "execution_count": 11
        }
      ]
    },
    {
      "cell_type": "markdown",
      "metadata": {
        "id": "zx5abEJshFFC"
      },
      "source": [
        " * <font color=\"ffd11b\"> **Análise de Casos Novos do Município do RJ no Mês de Junho 2021**"
      ]
    },
    {
      "cell_type": "code",
      "metadata": {
        "colab": {
          "base_uri": "https://localhost:8080/",
          "height": 0
        },
        "id": "CgXskpZoiKPc",
        "outputId": "2093fb55-0ff2-43bc-a25a-38fc307bedb1"
      },
      "source": [
        "quartis_mun_rj_junho_casos = mun_rj_junho_2021['casosNovos'].quantile([0.25,0.5,0.75, 1])\n",
        "quartis_mun_rj_junho_casos"
      ],
      "execution_count": 12,
      "outputs": [
        {
          "output_type": "execute_result",
          "data": {
            "text/plain": [
              "0.25     436.25\n",
              "0.50    1807.50\n",
              "0.75    2042.25\n",
              "1.00    2585.00\n",
              "Name: casosNovos, dtype: float64"
            ]
          },
          "metadata": {
            "tags": []
          },
          "execution_count": 12
        }
      ]
    },
    {
      "cell_type": "code",
      "metadata": {
        "colab": {
          "base_uri": "https://localhost:8080/",
          "height": 265
        },
        "id": "Cpxc4vMlhGjj",
        "outputId": "5cd1ab18-0eae-4439-a4ba-38fbfb85b0a8"
      },
      "source": [
        "boxplot_mun_rj_junho_casos = mun_rj_junho_2021.boxplot(column=['casosNovos'], showfliers=False)\n",
        "boxplot_mun_rj_junho_casos.plot()\n",
        "plt.show()"
      ],
      "execution_count": 13,
      "outputs": [
        {
          "output_type": "display_data",
          "data": {
            "image/png": "[encoded data removed]",
            "text/plain": [
              "<Figure size 432x288 with 1 Axes>"
            ]
          },
          "metadata": {
            "tags": [],
            "needs_background": "light"
          }
        }
      ]
    },
    {
      "cell_type": "markdown",
      "metadata": {
        "id": "lhRwTJWEdxB_"
      },
      "source": [
        "*  <font color=\"red\">**Média de Óbitos no Mês de Junho 2021** </font>\n",
        "\n"
      ]
    },
    {
      "cell_type": "code",
      "metadata": {
        "colab": {
          "base_uri": "https://localhost:8080/",
          "height": 0
        },
        "id": "yjszvpWhU_nh",
        "outputId": "9956a47b-362f-4893-b3be-9fc5649fe632"
      },
      "source": [
        "mun_rj_junho_2021_media_obitos =  mun_rj_junho_2021['obitosNovos'].mean()\n",
        "mun_rj_junho_2021_media_obitos"
      ],
      "execution_count": 14,
      "outputs": [
        {
          "output_type": "execute_result",
          "data": {
            "text/plain": [
              "77.2"
            ]
          },
          "metadata": {
            "tags": []
          },
          "execution_count": 14
        }
      ]
    },
    {
      "cell_type": "markdown",
      "metadata": {
        "id": "255Uw2M_dvB3"
      },
      "source": [
        "* <font color=\"red\"> **Desvio Padrão de Óbitos no Mês de Junho 2021**\n"
      ]
    },
    {
      "cell_type": "code",
      "metadata": {
        "colab": {
          "base_uri": "https://localhost:8080/",
          "height": 0
        },
        "id": "JMWkXv_lYDq1",
        "outputId": "c23dcb45-7d99-48ff-b72f-9eca209b5e89"
      },
      "source": [
        "mun_rj_junho_2021_desvio_obitos=  mun_rj_junho_2021['obitosNovos'].std()\n",
        "mun_rj_junho_2021_desvio_obitos"
      ],
      "execution_count": 15,
      "outputs": [
        {
          "output_type": "execute_result",
          "data": {
            "text/plain": [
              "48.73107059545593"
            ]
          },
          "metadata": {
            "tags": []
          },
          "execution_count": 15
        }
      ]
    },
    {
      "cell_type": "markdown",
      "metadata": {
        "id": "bJrf0UskYzKp"
      },
      "source": [
        " * <font color=\"red\"> **Móda dos Óbitos no Mês de Junho 2021**\n",
        "\n"
      ]
    },
    {
      "cell_type": "code",
      "metadata": {
        "colab": {
          "base_uri": "https://localhost:8080/",
          "height": 0
        },
        "id": "RYI1bK72YX0u",
        "outputId": "bf6b4e56-71e0-4c16-c222-e3c1e6a82220"
      },
      "source": [
        "mun_rj_junho_2021_moda_obitos=  mun_rj_junho_2021['obitosNovos'].mode()\n",
        "mun_rj_junho_2021_moda_obitos"
      ],
      "execution_count": 16,
      "outputs": [
        {
          "output_type": "execute_result",
          "data": {
            "text/plain": [
              "0      0.0\n",
              "1    106.0\n",
              "2    124.0\n",
              "3    137.0\n",
              "dtype: float64"
            ]
          },
          "metadata": {
            "tags": []
          },
          "execution_count": 16
        }
      ]
    },
    {
      "cell_type": "markdown",
      "metadata": {
        "id": "kGRMnKZLhEx8"
      },
      "source": [
        " * <font color=\"red\"> **Análise de óbtitos do Município do RJ no Mês de Junho 2021**"
      ]
    },
    {
      "cell_type": "code",
      "metadata": {
        "colab": {
          "base_uri": "https://localhost:8080/",
          "height": 0
        },
        "id": "H2CRkHf0iEJu",
        "outputId": "c46b987f-c99f-4066-f4b9-de2eeebe62cb"
      },
      "source": [
        "quartis_mun_rj_junho_obitos = mun_rj_junho_2021['obitosNovos'].quantile([0.25,0.5,0.75,1])\n",
        "quartis_mun_rj_junho_obitos"
      ],
      "execution_count": 17,
      "outputs": [
        {
          "output_type": "execute_result",
          "data": {
            "text/plain": [
              "0.25     29.25\n",
              "0.50     93.00\n",
              "0.75    111.50\n",
              "1.00    168.00\n",
              "Name: obitosNovos, dtype: float64"
            ]
          },
          "metadata": {
            "tags": []
          },
          "execution_count": 17
        }
      ]
    },
    {
      "cell_type": "code",
      "metadata": {
        "colab": {
          "base_uri": "https://localhost:8080/",
          "height": 268
        },
        "id": "mq68aveth74F",
        "outputId": "43a69514-6952-4267-9794-c256a5ae318d"
      },
      "source": [
        "boxplot_mun_rj_junho_obtitos = mun_rj_junho_2021.boxplot(column=['obitosNovos'], showfliers=False)\n",
        "boxplot_mun_rj_junho_obtitos .plot()\n",
        "plt.show()"
      ],
      "execution_count": 18,
      "outputs": [
        {
          "output_type": "display_data",
          "data": {
            "image/png": "[encoded data removed]",
            "text/plain": [
              "<Figure size 432x288 with 1 Axes>"
            ]
          },
          "metadata": {
            "tags": [],
            "needs_background": "light"
          }
        }
      ]
    },
    {
      "cell_type": "markdown",
      "metadata": {
        "id": "jnSEgmboisWV"
      },
      "source": [
        ""
      ]
    },
    {
      "cell_type": "markdown",
      "metadata": {
        "id": "ZtgoNRCwzVxs"
      },
      "source": [
        "### Métricas do município do Rio de Janeiro  **em todo o período de 2020/2021**"
      ]
    },
    {
      "cell_type": "markdown",
      "metadata": {
        "id": "PLV1YT0wl7Ro"
      },
      "source": [
        "* <font color=\"ffd11b\">**Média de Casos no período de 2020/2021**\n",
        "\n"
      ]
    },
    {
      "cell_type": "code",
      "metadata": {
        "colab": {
          "base_uri": "https://localhost:8080/",
          "height": 0
        },
        "id": "5T_maZKuzxLa",
        "outputId": "089ee81f-1820-4d59-fffe-d386f25d0ee5"
      },
      "source": [
        "media_munic_rj_casos = geral_munic_rj['casosNovos'].mean()\n",
        "media_munic_rj_casos"
      ],
      "execution_count": 19,
      "outputs": [
        {
          "output_type": "execute_result",
          "data": {
            "text/plain": [
              "882.1235632183908"
            ]
          },
          "metadata": {
            "tags": []
          },
          "execution_count": 19
        }
      ]
    },
    {
      "cell_type": "markdown",
      "metadata": {
        "id": "2Iol2PwjmuQO"
      },
      "source": [
        "* <font color=\"ffd11b\">**Desvio padrão de Casos no período de 2020/2021**"
      ]
    },
    {
      "cell_type": "code",
      "metadata": {
        "colab": {
          "base_uri": "https://localhost:8080/",
          "height": 0
        },
        "id": "U0fcBm9YnGRw",
        "outputId": "28313a1e-5db8-443d-d228-c57fbaac1b2f"
      },
      "source": [
        "dp_munic_rj_casos = geral_munic_rj['casosNovos'].std()\n",
        "dp_munic_rj_casos"
      ],
      "execution_count": 20,
      "outputs": [
        {
          "output_type": "execute_result",
          "data": {
            "text/plain": [
              "935.6228113972336"
            ]
          },
          "metadata": {
            "tags": []
          },
          "execution_count": 20
        }
      ]
    },
    {
      "cell_type": "markdown",
      "metadata": {
        "id": "XdSyvB9dmsFB"
      },
      "source": [
        "* <font color=\"ffd11b\">**Moda de Casos no período de 2020/2021**"
      ]
    },
    {
      "cell_type": "code",
      "metadata": {
        "colab": {
          "base_uri": "https://localhost:8080/",
          "height": 0
        },
        "id": "qhjEo0gRmrqf",
        "outputId": "1bc9cde4-824d-4095-ba54-c0f5e9b724f0"
      },
      "source": [
        "moda_munic_rj_casos = geral_munic_rj['casosNovos'].mode()\n",
        "moda_munic_rj_casos"
      ],
      "execution_count": 21,
      "outputs": [
        {
          "output_type": "execute_result",
          "data": {
            "text/plain": [
              "0    212\n",
              "dtype: int64"
            ]
          },
          "metadata": {
            "tags": []
          },
          "execution_count": 21
        }
      ]
    },
    {
      "cell_type": "markdown",
      "metadata": {
        "id": "tLgMq1cxu6PL"
      },
      "source": [
        "* <font color=\"ffd11b\">**Análise  Casos no período de 2020/2021**"
      ]
    },
    {
      "cell_type": "code",
      "metadata": {
        "id": "mdujpbFnu7Et",
        "colab": {
          "base_uri": "https://localhost:8080/",
          "height": 0
        },
        "outputId": "f7f74f15-4665-4aa1-898a-bb24dcfd8f42"
      },
      "source": [
        "quartis_geral_munc_rj_casos = geral_munic_rj['casosNovos'].quantile([0.25,0.5,0.75,1])\n",
        "quartis_geral_munc_rj_casos"
      ],
      "execution_count": 22,
      "outputs": [
        {
          "output_type": "execute_result",
          "data": {
            "text/plain": [
              "0.25     232.0\n",
              "0.50     649.5\n",
              "0.75    1224.5\n",
              "1.00    7592.0\n",
              "Name: casosNovos, dtype: float64"
            ]
          },
          "metadata": {
            "tags": []
          },
          "execution_count": 22
        }
      ]
    },
    {
      "cell_type": "code",
      "metadata": {
        "id": "E7O6vRpgu6w9",
        "colab": {
          "base_uri": "https://localhost:8080/",
          "height": 265
        },
        "outputId": "95d31f4c-e710-432e-c0ec-0e6c0c904b8e"
      },
      "source": [
        "boxplot_mun_geral_munc_rj_casos = geral_munic_rj.boxplot(column=['casosNovos'], showfliers=False)\n",
        "boxplot_mun_geral_munc_rj_casos.plot()\n",
        "plt.show()"
      ],
      "execution_count": 23,
      "outputs": [
        {
          "output_type": "display_data",
          "data": {
            "image/png": "[encoded data removed]",
            "text/plain": [
              "<Figure size 432x288 with 1 Axes>"
            ]
          },
          "metadata": {
            "tags": [],
            "needs_background": "light"
          }
        }
      ]
    },
    {
      "cell_type": "markdown",
      "metadata": {
        "id": "RA6qNcBTmKB5"
      },
      "source": [
        "* <font color=\"red\">**Média de Óbitos no período de 2020/2021**"
      ]
    },
    {
      "cell_type": "code",
      "metadata": {
        "colab": {
          "base_uri": "https://localhost:8080/",
          "height": 0
        },
        "id": "DHPTEIRsmKv3",
        "outputId": "4457d71c-d3e4-4553-c5ec-39599e7f4bc5"
      },
      "source": [
        "media_munic_rj_obitos = geral_munic_rj['obitosNovos'].mean()\n",
        "media_munic_rj_obitos"
      ],
      "execution_count": 24,
      "outputs": [
        {
          "output_type": "execute_result",
          "data": {
            "text/plain": [
              "60.30172413793103"
            ]
          },
          "metadata": {
            "tags": []
          },
          "execution_count": 24
        }
      ]
    },
    {
      "cell_type": "markdown",
      "metadata": {
        "id": "bD0ukBhVmtMH"
      },
      "source": [
        "* <font color=\"red\">**Desvio padrão de Óbitos no período de 2020/2021**"
      ]
    },
    {
      "cell_type": "code",
      "metadata": {
        "colab": {
          "base_uri": "https://localhost:8080/",
          "height": 0
        },
        "id": "hpGWTQuTnG9l",
        "outputId": "c510c67b-36e2-4303-d53e-423fbc431a54"
      },
      "source": [
        "dp_munic_rj_obitos = geral_munic_rj['obitosNovos'].std()\n",
        "dp_munic_rj_obitos"
      ],
      "execution_count": 25,
      "outputs": [
        {
          "output_type": "execute_result",
          "data": {
            "text/plain": [
              "49.2851878118851"
            ]
          },
          "metadata": {
            "tags": []
          },
          "execution_count": 25
        }
      ]
    },
    {
      "cell_type": "markdown",
      "metadata": {
        "id": "wpPCuatIzwdH"
      },
      "source": [
        "* <font color=\"red\">**Moda de Óbitos no período de 2020/2021**\n"
      ]
    },
    {
      "cell_type": "code",
      "metadata": {
        "colab": {
          "base_uri": "https://localhost:8080/",
          "height": 0
        },
        "id": "flGob_g1nIvr",
        "outputId": "4c3f6bfa-0514-4f33-882b-5bd7f8db4b47"
      },
      "source": [
        "moda_munic_rj_obitos = geral_munic_rj['obitosNovos'].mode()\n",
        "moda_munic_rj_obitos"
      ],
      "execution_count": 26,
      "outputs": [
        {
          "output_type": "execute_result",
          "data": {
            "text/plain": [
              "0    0.0\n",
              "dtype: float64"
            ]
          },
          "metadata": {
            "tags": []
          },
          "execution_count": 26
        }
      ]
    },
    {
      "cell_type": "markdown",
      "metadata": {
        "id": "gM_3G5m7qT_e"
      },
      "source": [
        "* <font color=\"red\">** **Análise** gráfico de Óbitos no período de 2020/2021**"
      ]
    },
    {
      "cell_type": "code",
      "metadata": {
        "colab": {
          "base_uri": "https://localhost:8080/",
          "height": 0
        },
        "id": "BoLoSLqqqUZ6",
        "outputId": "10946f49-e850-4eba-bcf8-8cbd519e7609"
      },
      "source": [
        "quartis_geral_munc_rj_obitos = geral_munic_rj['obitosNovos'].quantile([0.25,0.5,0.75,1])\n",
        "quartis_geral_munc_rj_obitos"
      ],
      "execution_count": 27,
      "outputs": [
        {
          "output_type": "execute_result",
          "data": {
            "text/plain": [
              "0.25     15.75\n",
              "0.50     53.00\n",
              "0.75     96.00\n",
              "1.00    246.00\n",
              "Name: obitosNovos, dtype: float64"
            ]
          },
          "metadata": {
            "tags": []
          },
          "execution_count": 27
        }
      ]
    },
    {
      "cell_type": "code",
      "metadata": {
        "colab": {
          "base_uri": "https://localhost:8080/",
          "height": 265
        },
        "id": "nZROwBZ6qVbu",
        "outputId": "8fee7773-2455-48f9-bed8-dcc9678ab41e"
      },
      "source": [
        "boxplot_mun_geral_munc_rj_obitos = geral_munic_rj.boxplot(column=['obitosNovos'], showfliers=False)\n",
        "boxplot_mun_geral_munc_rj_obitos.plot()\n",
        "plt.show()"
      ],
      "execution_count": 28,
      "outputs": [
        {
          "output_type": "display_data",
          "data": {
            "image/png": "[encoded data removed]",
            "text/plain": [
              "<Figure size 432x288 with 1 Axes>"
            ]
          },
          "metadata": {
            "tags": [],
            "needs_background": "light"
          }
        }
      ]
    },
    {
      "cell_type": "markdown",
      "metadata": {
        "id": "EMFcbHGlhkph"
      },
      "source": [
        "# Análise de dados do Estado do RJ"
      ]
    },
    {
      "cell_type": "code",
      "metadata": {
        "id": "6vDKk-chj7oy",
        "colab": {
          "base_uri": "https://localhost:8080/",
          "height": 609
        },
        "outputId": "9901c562-1a07-41a6-8527-1bd30116323f"
      },
      "source": [
        "geral_estado_rj = data_geral[(data_geral['estado'] =='RJ') & (data_geral['codmun'].isna())]\n",
        "\n",
        "geral_estado_rj.sort_values(by='data')\n",
        "geral_estado_rj"
      ],
      "execution_count": 29,
      "outputs": [
        {
          "output_type": "execute_result",
          "data": {
            "text/html": [
              "<div>\n",
              "<style scoped>\n",
              "    .dataframe tbody tr th:only-of-type {\n",
              "        vertical-align: middle;\n",
              "    }\n",
              "\n",
              "    .dataframe tbody tr th {\n",
              "        vertical-align: top;\n",
              "    }\n",
              "\n",
              "    .dataframe thead th {\n",
              "        text-align: right;\n",
              "    }\n",
              "</style>\n",
              "<table border=\"1\" class=\"dataframe\">\n",
              "  <thead>\n",
              "    <tr style=\"text-align: right;\">\n",
              "      <th></th>\n",
              "      <th>regiao</th>\n",
              "      <th>estado</th>\n",
              "      <th>municipio</th>\n",
              "      <th>coduf</th>\n",
              "      <th>codmun</th>\n",
              "      <th>codRegiaoSaude</th>\n",
              "      <th>nomeRegiaoSaude</th>\n",
              "      <th>data</th>\n",
              "      <th>semanaEpi</th>\n",
              "      <th>populacaoTCU2019</th>\n",
              "      <th>casosAcumulado</th>\n",
              "      <th>casosNovos</th>\n",
              "      <th>obitosAcumulado</th>\n",
              "      <th>obitosNovos</th>\n",
              "      <th>Recuperadosnovos</th>\n",
              "      <th>emAcompanhamentoNovos</th>\n",
              "      <th>interior/metropolitana</th>\n",
              "    </tr>\n",
              "  </thead>\n",
              "  <tbody>\n",
              "    <tr>\n",
              "      <th>2908</th>\n",
              "      <td>Sudeste</td>\n",
              "      <td>RJ</td>\n",
              "      <td>NaN</td>\n",
              "      <td>33.0</td>\n",
              "      <td>NaN</td>\n",
              "      <td>NaN</td>\n",
              "      <td>NaN</td>\n",
              "      <td>2020-08-01</td>\n",
              "      <td>31.0</td>\n",
              "      <td>17264943.0</td>\n",
              "      <td>167213.0</td>\n",
              "      <td>1718</td>\n",
              "      <td>13556</td>\n",
              "      <td>79.0</td>\n",
              "      <td>NaN</td>\n",
              "      <td>NaN</td>\n",
              "      <td>NaN</td>\n",
              "    </tr>\n",
              "    <tr>\n",
              "      <th>2909</th>\n",
              "      <td>Sudeste</td>\n",
              "      <td>RJ</td>\n",
              "      <td>NaN</td>\n",
              "      <td>33.0</td>\n",
              "      <td>NaN</td>\n",
              "      <td>NaN</td>\n",
              "      <td>NaN</td>\n",
              "      <td>2020-08-02</td>\n",
              "      <td>32.0</td>\n",
              "      <td>17264943.0</td>\n",
              "      <td>167225.0</td>\n",
              "      <td>12</td>\n",
              "      <td>13572</td>\n",
              "      <td>16.0</td>\n",
              "      <td>NaN</td>\n",
              "      <td>NaN</td>\n",
              "      <td>NaN</td>\n",
              "    </tr>\n",
              "    <tr>\n",
              "      <th>2910</th>\n",
              "      <td>Sudeste</td>\n",
              "      <td>RJ</td>\n",
              "      <td>NaN</td>\n",
              "      <td>33.0</td>\n",
              "      <td>NaN</td>\n",
              "      <td>NaN</td>\n",
              "      <td>NaN</td>\n",
              "      <td>2020-08-03</td>\n",
              "      <td>32.0</td>\n",
              "      <td>17264943.0</td>\n",
              "      <td>168064.0</td>\n",
              "      <td>839</td>\n",
              "      <td>13604</td>\n",
              "      <td>32.0</td>\n",
              "      <td>NaN</td>\n",
              "      <td>NaN</td>\n",
              "      <td>NaN</td>\n",
              "    </tr>\n",
              "    <tr>\n",
              "      <th>2911</th>\n",
              "      <td>Sudeste</td>\n",
              "      <td>RJ</td>\n",
              "      <td>NaN</td>\n",
              "      <td>33.0</td>\n",
              "      <td>NaN</td>\n",
              "      <td>NaN</td>\n",
              "      <td>NaN</td>\n",
              "      <td>2020-08-04</td>\n",
              "      <td>32.0</td>\n",
              "      <td>17264943.0</td>\n",
              "      <td>168911.0</td>\n",
              "      <td>847</td>\n",
              "      <td>13715</td>\n",
              "      <td>111.0</td>\n",
              "      <td>NaN</td>\n",
              "      <td>NaN</td>\n",
              "      <td>NaN</td>\n",
              "    </tr>\n",
              "    <tr>\n",
              "      <th>2912</th>\n",
              "      <td>Sudeste</td>\n",
              "      <td>RJ</td>\n",
              "      <td>NaN</td>\n",
              "      <td>33.0</td>\n",
              "      <td>NaN</td>\n",
              "      <td>NaN</td>\n",
              "      <td>NaN</td>\n",
              "      <td>2020-08-05</td>\n",
              "      <td>32.0</td>\n",
              "      <td>17264943.0</td>\n",
              "      <td>172679.0</td>\n",
              "      <td>3768</td>\n",
              "      <td>13855</td>\n",
              "      <td>140.0</td>\n",
              "      <td>NaN</td>\n",
              "      <td>NaN</td>\n",
              "      <td>NaN</td>\n",
              "    </tr>\n",
              "    <tr>\n",
              "      <th>...</th>\n",
              "      <td>...</td>\n",
              "      <td>...</td>\n",
              "      <td>...</td>\n",
              "      <td>...</td>\n",
              "      <td>...</td>\n",
              "      <td>...</td>\n",
              "      <td>...</td>\n",
              "      <td>...</td>\n",
              "      <td>...</td>\n",
              "      <td>...</td>\n",
              "      <td>...</td>\n",
              "      <td>...</td>\n",
              "      <td>...</td>\n",
              "      <td>...</td>\n",
              "      <td>...</td>\n",
              "      <td>...</td>\n",
              "      <td>...</td>\n",
              "    </tr>\n",
              "    <tr>\n",
              "      <th>275</th>\n",
              "      <td>Sudeste</td>\n",
              "      <td>RJ</td>\n",
              "      <td>NaN</td>\n",
              "      <td>33.0</td>\n",
              "      <td>NaN</td>\n",
              "      <td>NaN</td>\n",
              "      <td>NaN</td>\n",
              "      <td>2021-07-10</td>\n",
              "      <td>27.0</td>\n",
              "      <td>17264943.0</td>\n",
              "      <td>981088.0</td>\n",
              "      <td>3318</td>\n",
              "      <td>56755</td>\n",
              "      <td>196.0</td>\n",
              "      <td>NaN</td>\n",
              "      <td>NaN</td>\n",
              "      <td>NaN</td>\n",
              "    </tr>\n",
              "    <tr>\n",
              "      <th>276</th>\n",
              "      <td>Sudeste</td>\n",
              "      <td>RJ</td>\n",
              "      <td>NaN</td>\n",
              "      <td>33.0</td>\n",
              "      <td>NaN</td>\n",
              "      <td>NaN</td>\n",
              "      <td>NaN</td>\n",
              "      <td>2021-07-11</td>\n",
              "      <td>28.0</td>\n",
              "      <td>17264943.0</td>\n",
              "      <td>981839.0</td>\n",
              "      <td>751</td>\n",
              "      <td>56808</td>\n",
              "      <td>53.0</td>\n",
              "      <td>NaN</td>\n",
              "      <td>NaN</td>\n",
              "      <td>NaN</td>\n",
              "    </tr>\n",
              "    <tr>\n",
              "      <th>277</th>\n",
              "      <td>Sudeste</td>\n",
              "      <td>RJ</td>\n",
              "      <td>NaN</td>\n",
              "      <td>33.0</td>\n",
              "      <td>NaN</td>\n",
              "      <td>NaN</td>\n",
              "      <td>NaN</td>\n",
              "      <td>2021-07-12</td>\n",
              "      <td>28.0</td>\n",
              "      <td>17264943.0</td>\n",
              "      <td>982609.0</td>\n",
              "      <td>770</td>\n",
              "      <td>56848</td>\n",
              "      <td>40.0</td>\n",
              "      <td>NaN</td>\n",
              "      <td>NaN</td>\n",
              "      <td>NaN</td>\n",
              "    </tr>\n",
              "    <tr>\n",
              "      <th>278</th>\n",
              "      <td>Sudeste</td>\n",
              "      <td>RJ</td>\n",
              "      <td>NaN</td>\n",
              "      <td>33.0</td>\n",
              "      <td>NaN</td>\n",
              "      <td>NaN</td>\n",
              "      <td>NaN</td>\n",
              "      <td>2021-07-13</td>\n",
              "      <td>28.0</td>\n",
              "      <td>17264943.0</td>\n",
              "      <td>984554.0</td>\n",
              "      <td>1945</td>\n",
              "      <td>56947</td>\n",
              "      <td>99.0</td>\n",
              "      <td>NaN</td>\n",
              "      <td>NaN</td>\n",
              "      <td>NaN</td>\n",
              "    </tr>\n",
              "    <tr>\n",
              "      <th>279</th>\n",
              "      <td>Sudeste</td>\n",
              "      <td>RJ</td>\n",
              "      <td>NaN</td>\n",
              "      <td>33.0</td>\n",
              "      <td>NaN</td>\n",
              "      <td>NaN</td>\n",
              "      <td>NaN</td>\n",
              "      <td>2021-07-14</td>\n",
              "      <td>28.0</td>\n",
              "      <td>17264943.0</td>\n",
              "      <td>986233.0</td>\n",
              "      <td>1679</td>\n",
              "      <td>57075</td>\n",
              "      <td>128.0</td>\n",
              "      <td>NaN</td>\n",
              "      <td>NaN</td>\n",
              "      <td>NaN</td>\n",
              "    </tr>\n",
              "  </tbody>\n",
              "</table>\n",
              "<p>348 rows × 17 columns</p>\n",
              "</div>"
            ],
            "text/plain": [
              "       regiao estado  ... emAcompanhamentoNovos  interior/metropolitana\n",
              "2908  Sudeste     RJ  ...                   NaN                     NaN\n",
              "2909  Sudeste     RJ  ...                   NaN                     NaN\n",
              "2910  Sudeste     RJ  ...                   NaN                     NaN\n",
              "2911  Sudeste     RJ  ...                   NaN                     NaN\n",
              "2912  Sudeste     RJ  ...                   NaN                     NaN\n",
              "...       ...    ...  ...                   ...                     ...\n",
              "275   Sudeste     RJ  ...                   NaN                     NaN\n",
              "276   Sudeste     RJ  ...                   NaN                     NaN\n",
              "277   Sudeste     RJ  ...                   NaN                     NaN\n",
              "278   Sudeste     RJ  ...                   NaN                     NaN\n",
              "279   Sudeste     RJ  ...                   NaN                     NaN\n",
              "\n",
              "[348 rows x 17 columns]"
            ]
          },
          "metadata": {
            "tags": []
          },
          "execution_count": 29
        }
      ]
    },
    {
      "cell_type": "code",
      "metadata": {
        "colab": {
          "base_uri": "https://localhost:8080/",
          "height": 0
        },
        "id": "EX9cWJtjmcuc",
        "outputId": "63be813e-69c6-4d56-e7d6-d88ef43d06e4"
      },
      "source": [
        "geral_estado_rj['data'] = pd.to_datetime(geral_estado_rj['data'])"
      ],
      "execution_count": 30,
      "outputs": [
        {
          "output_type": "stream",
          "text": [
            "/usr/local/lib/python3.7/dist-packages/ipykernel_launcher.py:1: SettingWithCopyWarning: \n",
            "A value is trying to be set on a copy of a slice from a DataFrame.\n",
            "Try using .loc[row_indexer,col_indexer] = value instead\n",
            "\n",
            "See the caveats in the documentation: https://pandas.pydata.org/pandas-docs/stable/user_guide/indexing.html#returning-a-view-versus-a-copy\n",
            "  \"\"\"Entry point for launching an IPython kernel.\n"
          ],
          "name": "stderr"
        }
      ]
    },
    {
      "cell_type": "markdown",
      "metadata": {
        "id": "3Rbd2wWcrt3o"
      },
      "source": [
        "### Métricas do Estado do Rio de Janeiro  **Junho 2021**"
      ]
    },
    {
      "cell_type": "code",
      "metadata": {
        "id": "U4laI_eOj--8"
      },
      "source": [
        "estado_rj_junho = geral_estado_rj[(geral_estado_rj['data'] >= '2021-06-01' ) & (geral_estado_rj['data'] <= '2021-06-30' )] \n"
      ],
      "execution_count": 31,
      "outputs": []
    },
    {
      "cell_type": "markdown",
      "metadata": {
        "id": "mJZbhQxko5Xe"
      },
      "source": [
        "* <font color=\"ffd11b\">**Média de Casos no estado em junho 2021**\n"
      ]
    },
    {
      "cell_type": "code",
      "metadata": {
        "colab": {
          "base_uri": "https://localhost:8080/",
          "height": 0
        },
        "id": "3d5G6Ej8WGES",
        "outputId": "103d9e56-6754-4dd8-ae7f-564c8c032aa9"
      },
      "source": [
        "media_estado_rj_junho_casos = estado_rj_junho['casosNovos'].mean()\n",
        "media_estado_rj_junho_casos"
      ],
      "execution_count": 32,
      "outputs": [
        {
          "output_type": "execute_result",
          "data": {
            "text/plain": [
              "3094.5333333333333"
            ]
          },
          "metadata": {
            "tags": []
          },
          "execution_count": 32
        }
      ]
    },
    {
      "cell_type": "markdown",
      "metadata": {
        "id": "otLmUPgbRdTz"
      },
      "source": [
        "* <font color=\"ffd11b\">**Desvio padrão de Casos no estado em junho 2021**\n",
        "\n",
        "\n"
      ]
    },
    {
      "cell_type": "code",
      "metadata": {
        "colab": {
          "base_uri": "https://localhost:8080/",
          "height": 0
        },
        "id": "anE6Kcflu1WL",
        "outputId": "f44edd45-0d54-42e1-ff27-1d6534c7f57b"
      },
      "source": [
        "desvio_estado_rj_junho_obitos = estado_rj_junho['casosNovos'].std()\n",
        "desvio_estado_rj_junho_obitos"
      ],
      "execution_count": 33,
      "outputs": [
        {
          "output_type": "execute_result",
          "data": {
            "text/plain": [
              "1755.4712842667225"
            ]
          },
          "metadata": {
            "tags": []
          },
          "execution_count": 33
        }
      ]
    },
    {
      "cell_type": "markdown",
      "metadata": {
        "id": "rZ7oSoLS51tq"
      },
      "source": [
        "* <font color=\"ffd11b\">**Moda de Casos no estado em junho 2021**\n"
      ]
    },
    {
      "cell_type": "code",
      "metadata": {
        "colab": {
          "base_uri": "https://localhost:8080/",
          "height": 0
        },
        "id": "EEUh_aYD52aV",
        "outputId": "31e13669-66af-4249-82ba-254493b2d5d8"
      },
      "source": [
        "moda_rj_junho_casos = estado_rj_junho['casosNovos'].mode()\n",
        "moda_rj_junho_casos "
      ],
      "execution_count": 34,
      "outputs": [
        {
          "output_type": "execute_result",
          "data": {
            "text/plain": [
              "0      344\n",
              "1      386\n",
              "2      483\n",
              "3      592\n",
              "4      775\n",
              "5      883\n",
              "6     1190\n",
              "7     1520\n",
              "8     1681\n",
              "9     2113\n",
              "10    2326\n",
              "11    2498\n",
              "12    3093\n",
              "13    3431\n",
              "14    3520\n",
              "15    3530\n",
              "16    3566\n",
              "17    3939\n",
              "18    3954\n",
              "19    4072\n",
              "20    4178\n",
              "21    4187\n",
              "22    4341\n",
              "23    4372\n",
              "24    4422\n",
              "25    4701\n",
              "26    5022\n",
              "27    5258\n",
              "28    6092\n",
              "29    6367\n",
              "dtype: int64"
            ]
          },
          "metadata": {
            "tags": []
          },
          "execution_count": 34
        }
      ]
    },
    {
      "cell_type": "markdown",
      "metadata": {
        "id": "0tmVhBJRwdjr"
      },
      "source": [
        "* <font color=\"ffd11b\">**Análise de  Casos no estado em junho 2021**\n"
      ]
    },
    {
      "cell_type": "code",
      "metadata": {
        "colab": {
          "base_uri": "https://localhost:8080/",
          "height": 0
        },
        "id": "b_JX_DPzwebZ",
        "outputId": "aa1c4f64-d62f-4934-8346-c16a819004f0"
      },
      "source": [
        "quartis_estado_rj_junho_casos = estado_rj_junho['casosNovos'].quantile([0.25,0.5,0.75])\n",
        "quartis_estado_rj_junho_casos "
      ],
      "execution_count": 35,
      "outputs": [
        {
          "output_type": "execute_result",
          "data": {
            "text/plain": [
              "0.25    1560.25\n",
              "0.50    3525.00\n",
              "0.75    4302.50\n",
              "Name: casosNovos, dtype: float64"
            ]
          },
          "metadata": {
            "tags": []
          },
          "execution_count": 35
        }
      ]
    },
    {
      "cell_type": "code",
      "metadata": {
        "colab": {
          "base_uri": "https://localhost:8080/",
          "height": 265
        },
        "id": "nWLfxnmdweFx",
        "outputId": "18b4e190-8abe-494d-83dc-72a04f16e6f9"
      },
      "source": [
        "boxplot_mun_estado_rj_junho_casos = estado_rj_junho.boxplot(column=['casosNovos'], showfliers=False)\n",
        "boxplot_mun_estado_rj_junho_casos .plot()\n",
        "plt.show()"
      ],
      "execution_count": 36,
      "outputs": [
        {
          "output_type": "display_data",
          "data": {
            "image/png": "[encoded data removed]",
            "text/plain": [
              "<Figure size 432x288 with 1 Axes>"
            ]
          },
          "metadata": {
            "tags": [],
            "needs_background": "light"
          }
        }
      ]
    },
    {
      "cell_type": "markdown",
      "metadata": {
        "id": "Bgt1DO4VpVVV"
      },
      "source": [
        "* <font color=\"red\">**Média de Óbitos no estado em junho 2021**\n"
      ]
    },
    {
      "cell_type": "code",
      "metadata": {
        "colab": {
          "base_uri": "https://localhost:8080/",
          "height": 0
        },
        "id": "PT5zNpcXpbR7",
        "outputId": "1304e4b2-c5f5-4dc8-b4e8-f2ca50cd2668"
      },
      "source": [
        "media_estado_rj_junho_obitos = estado_rj_junho['obitosNovos'].mean()\n",
        "media_estado_rj_junho_obitos"
      ],
      "execution_count": 37,
      "outputs": [
        {
          "output_type": "execute_result",
          "data": {
            "text/plain": [
              "162.86666666666667"
            ]
          },
          "metadata": {
            "tags": []
          },
          "execution_count": 37
        }
      ]
    },
    {
      "cell_type": "markdown",
      "metadata": {
        "id": "RMtqesnaZ7by"
      },
      "source": [
        "* <font color=\"red\">**Desvio padrão de Casos no estado em junho 2021**\n"
      ]
    },
    {
      "cell_type": "code",
      "metadata": {
        "colab": {
          "base_uri": "https://localhost:8080/",
          "height": 0
        },
        "id": "HUAwGs7AU8Uf",
        "outputId": "72975c93-740e-4ea4-9049-5da8baf19f5e"
      },
      "source": [
        "desvio_estado_rj_junho_obitos = estado_rj_junho['obitosNovos'].std()\n",
        "desvio_estado_rj_junho_obitos"
      ],
      "execution_count": 38,
      "outputs": [
        {
          "output_type": "execute_result",
          "data": {
            "text/plain": [
              "96.19188199073528"
            ]
          },
          "metadata": {
            "tags": []
          },
          "execution_count": 38
        }
      ]
    },
    {
      "cell_type": "markdown",
      "metadata": {
        "id": "SrLE7Tqj53Db"
      },
      "source": [
        "* <font color=\"red\">**Moda de Óbitos no estado em junho 2021**\n"
      ]
    },
    {
      "cell_type": "code",
      "metadata": {
        "colab": {
          "base_uri": "https://localhost:8080/",
          "height": 0
        },
        "id": "fKiYz7Yg53pm",
        "outputId": "d81eb6e9-9806-4640-90e5-b8e50170e072"
      },
      "source": [
        "moda_rj_junho_obitos = estado_rj_junho['obitosNovos'].mode()\n",
        "moda_rj_junho_obitos"
      ],
      "execution_count": 39,
      "outputs": [
        {
          "output_type": "execute_result",
          "data": {
            "text/plain": [
              "0     17.0\n",
              "1    256.0\n",
              "dtype: float64"
            ]
          },
          "metadata": {
            "tags": []
          },
          "execution_count": 39
        }
      ]
    },
    {
      "cell_type": "markdown",
      "metadata": {
        "id": "Rzr_oAcVwgi1"
      },
      "source": [
        "* <font color=\"red\">**Análise de Óbitos no estado em junho 2021**"
      ]
    },
    {
      "cell_type": "code",
      "metadata": {
        "colab": {
          "base_uri": "https://localhost:8080/",
          "height": 0
        },
        "id": "A33Bt7ODwhk4",
        "outputId": "9ccdf882-cdf1-4ee8-8ca0-13fd1e649b31"
      },
      "source": [
        "quartis_estado_rj_junho_obitos = estado_rj_junho['obitosNovos'].quantile([0.25,0.5,0.75])\n",
        "quartis_estado_rj_junho_obitos"
      ],
      "execution_count": 40,
      "outputs": [
        {
          "output_type": "execute_result",
          "data": {
            "text/plain": [
              "0.25     91.50\n",
              "0.50    179.00\n",
              "0.75    232.75\n",
              "Name: obitosNovos, dtype: float64"
            ]
          },
          "metadata": {
            "tags": []
          },
          "execution_count": 40
        }
      ]
    },
    {
      "cell_type": "code",
      "metadata": {
        "colab": {
          "base_uri": "https://localhost:8080/",
          "height": 265
        },
        "id": "hSyREdd7whSr",
        "outputId": "b3448d80-88ad-427a-9804-ef0f718b4f34"
      },
      "source": [
        "boxplot_mun_estado_rj_junho_obitos = estado_rj_junho.boxplot(column=['obitosNovos'], showfliers=False)\n",
        "boxplot_mun_estado_rj_junho_obitos.plot()\n",
        "plt.show()"
      ],
      "execution_count": 41,
      "outputs": [
        {
          "output_type": "display_data",
          "data": {
            "image/png": "[encoded data removed]",
            "text/plain": [
              "<Figure size 432x288 with 1 Axes>"
            ]
          },
          "metadata": {
            "tags": [],
            "needs_background": "light"
          }
        }
      ]
    },
    {
      "cell_type": "markdown",
      "metadata": {
        "id": "qqFtfm_2r5Ko"
      },
      "source": [
        "### Métricas do Estado RJ  **em todo o período de 2020/2021**\n"
      ]
    },
    {
      "cell_type": "markdown",
      "metadata": {
        "id": "NvRL9SQmsZY-"
      },
      "source": [
        "* <font color=\"ffd11b\">**Média de Casos no estado  2020/2021**\n",
        "\n",
        "\n",
        "\n"
      ]
    },
    {
      "cell_type": "code",
      "metadata": {
        "colab": {
          "base_uri": "https://localhost:8080/",
          "height": 0
        },
        "id": "IGm5PUWHsc3A",
        "outputId": "9d939c82-8631-4215-c462-245e49fde6e6"
      },
      "source": [
        "media_estado_rj_casos =  geral_estado_rj['casosNovos'].mean()\n",
        "media_estado_rj_casos"
      ],
      "execution_count": 42,
      "outputs": [
        {
          "output_type": "execute_result",
          "data": {
            "text/plain": [
              "2358.442528735632"
            ]
          },
          "metadata": {
            "tags": []
          },
          "execution_count": 42
        }
      ]
    },
    {
      "cell_type": "markdown",
      "metadata": {
        "id": "2ujt5QXv5TrY"
      },
      "source": [
        "* <font color=\"ffd11b\">**Desvio padrão de Casos no estado  2020/2021**\n"
      ]
    },
    {
      "cell_type": "code",
      "metadata": {
        "colab": {
          "base_uri": "https://localhost:8080/",
          "height": 0
        },
        "id": "mQpOa0Qt5bjX",
        "outputId": "1f9f917f-bfa9-47e9-a5d1-4aae6ec6f8c9"
      },
      "source": [
        "desvios_estado_rj_casos =  geral_estado_rj['casosNovos'].std()\n",
        "desvios_estado_rj_casos"
      ],
      "execution_count": 43,
      "outputs": [
        {
          "output_type": "execute_result",
          "data": {
            "text/plain": [
              "1693.7520325290188"
            ]
          },
          "metadata": {
            "tags": []
          },
          "execution_count": 43
        }
      ]
    },
    {
      "cell_type": "markdown",
      "metadata": {
        "id": "j6MZpaKy55W9"
      },
      "source": [
        "* <font color=\"ffd11b\">** padrão de Casos no estado  2020/2021**"
      ]
    },
    {
      "cell_type": "code",
      "metadata": {
        "colab": {
          "base_uri": "https://localhost:8080/",
          "height": 0
        },
        "id": "CPv06xgv57Ga",
        "outputId": "61ad4048-dac6-423c-f93a-39dce3c37f55"
      },
      "source": [
        "moda_estado_rj_casos =  geral_estado_rj['casosNovos'].mode()\n",
        "moda_estado_rj_casos"
      ],
      "execution_count": 44,
      "outputs": [
        {
          "output_type": "execute_result",
          "data": {
            "text/plain": [
              "0       0\n",
              "1     234\n",
              "2     268\n",
              "3     751\n",
              "4    1081\n",
              "5    1180\n",
              "6    2158\n",
              "7    4039\n",
              "8    4160\n",
              "9    5118\n",
              "dtype: int64"
            ]
          },
          "metadata": {
            "tags": []
          },
          "execution_count": 44
        }
      ]
    },
    {
      "cell_type": "markdown",
      "metadata": {
        "id": "G8ayYtprzNyw"
      },
      "source": [
        "* <font color=\"ffd11b\">**Análise de Casos no estado  2020/2021**"
      ]
    },
    {
      "cell_type": "code",
      "metadata": {
        "colab": {
          "base_uri": "https://localhost:8080/",
          "height": 0
        },
        "id": "3EvCeuJVzOWA",
        "outputId": "d3554bed-bda2-481a-fbc0-f8bf6624fdf4"
      },
      "source": [
        "quartis_estado_rj_casos = geral_estado_rj['casosNovos'].quantile([0.25,0.5,0.75])\n",
        "quartis_estado_rj_casos"
      ],
      "execution_count": 45,
      "outputs": [
        {
          "output_type": "execute_result",
          "data": {
            "text/plain": [
              "0.25     874.75\n",
              "0.50    2113.50\n",
              "0.75    3561.50\n",
              "Name: casosNovos, dtype: float64"
            ]
          },
          "metadata": {
            "tags": []
          },
          "execution_count": 45
        }
      ]
    },
    {
      "cell_type": "code",
      "metadata": {
        "colab": {
          "base_uri": "https://localhost:8080/",
          "height": 265
        },
        "id": "irotqXSJzO39",
        "outputId": "c90345bb-d752-46e5-e567-01709cd56b71"
      },
      "source": [
        "boxplot_estado_rj_casos = geral_estado_rj.boxplot(column=['casosNovos'], showfliers=False)\n",
        "boxplot_estado_rj_casos.plot()\n",
        "plt.show()"
      ],
      "execution_count": 46,
      "outputs": [
        {
          "output_type": "display_data",
          "data": {
            "image/png": "[encoded data removed]",
            "text/plain": [
              "<Figure size 432x288 with 1 Axes>"
            ]
          },
          "metadata": {
            "tags": [],
            "needs_background": "light"
          }
        }
      ]
    },
    {
      "cell_type": "markdown",
      "metadata": {
        "id": "8aXnqcN8tTY-"
      },
      "source": [
        "* <font color=\"red\">**Média de óbitos no estado  2020/2021**\n"
      ]
    },
    {
      "cell_type": "code",
      "metadata": {
        "colab": {
          "base_uri": "https://localhost:8080/",
          "height": 0
        },
        "id": "RHeUDL1rsg3I",
        "outputId": "aa73a7f1-84cb-482a-cfca-40d3de9f5263"
      },
      "source": [
        "media_estado_rj_obitos =  geral_estado_rj['obitosNovos'].mean()\n",
        "media_estado_rj_obitos"
      ],
      "execution_count": 47,
      "outputs": [
        {
          "output_type": "execute_result",
          "data": {
            "text/plain": [
              "125.2816091954023"
            ]
          },
          "metadata": {
            "tags": []
          },
          "execution_count": 47
        }
      ]
    },
    {
      "cell_type": "markdown",
      "metadata": {
        "id": "gkN6hFKV5cbq"
      },
      "source": [
        "* <font color=\"red\">**Desfio padrão de óbitos no estado  2020/2021**\n"
      ]
    },
    {
      "cell_type": "code",
      "metadata": {
        "colab": {
          "base_uri": "https://localhost:8080/",
          "height": 0
        },
        "id": "jt2BWKOXt8ua",
        "outputId": "7b60359f-4bcc-467c-b773-dcd6adbba28a"
      },
      "source": [
        "desvios_estado_rj_obitos =  geral_estado_rj['obitosNovos'].std()\n",
        "desvios_estado_rj_obitos"
      ],
      "execution_count": 48,
      "outputs": [
        {
          "output_type": "execute_result",
          "data": {
            "text/plain": [
              "98.25691786659209"
            ]
          },
          "metadata": {
            "tags": []
          },
          "execution_count": 48
        }
      ]
    },
    {
      "cell_type": "markdown",
      "metadata": {
        "id": "BKXYSsDJ561w"
      },
      "source": [
        "* <font color=\"red\">**Moda de óbitos no estado  2020/2021**\n"
      ]
    },
    {
      "cell_type": "code",
      "metadata": {
        "colab": {
          "base_uri": "https://localhost:8080/",
          "height": 0
        },
        "id": "8LACJjBO7ZRW",
        "outputId": "9ab3e3d6-53f5-4134-de2d-ba70e468f416"
      },
      "source": [
        "moda_estado_rj_obitos =  geral_estado_rj['obitosNovos'].mode()\n",
        "moda_estado_rj_obitos"
      ],
      "execution_count": 49,
      "outputs": [
        {
          "output_type": "execute_result",
          "data": {
            "text/plain": [
              "0    24.0\n",
              "dtype: float64"
            ]
          },
          "metadata": {
            "tags": []
          },
          "execution_count": 49
        }
      ]
    },
    {
      "cell_type": "markdown",
      "metadata": {
        "id": "2ZCsMoT5zQw4"
      },
      "source": [
        "* <font color=\"red\">**Análise óbitos no estado  2020/2021**\n"
      ]
    },
    {
      "cell_type": "code",
      "metadata": {
        "id": "GErrTgfQ7vsc",
        "colab": {
          "base_uri": "https://localhost:8080/",
          "height": 0
        },
        "outputId": "88648454-ffea-4b8d-cff3-e32257dd90af"
      },
      "source": [
        "quartis_estado_rj_obitos = geral_estado_rj['obitosNovos'].quantile([0.25,0.5,0.75])\n",
        "quartis_estado_rj_obitos"
      ],
      "execution_count": 50,
      "outputs": [
        {
          "output_type": "execute_result",
          "data": {
            "text/plain": [
              "0.25     42.75\n",
              "0.50    106.50\n",
              "0.75    185.25\n",
              "Name: obitosNovos, dtype: float64"
            ]
          },
          "metadata": {
            "tags": []
          },
          "execution_count": 50
        }
      ]
    },
    {
      "cell_type": "code",
      "metadata": {
        "colab": {
          "base_uri": "https://localhost:8080/",
          "height": 266
        },
        "id": "oQMqR-jrzSbz",
        "outputId": "73b37d7f-ec1a-4475-fb2d-87ed0c298525"
      },
      "source": [
        "boxplot_estado_rj_obitos = geral_estado_rj.boxplot(column=['obitosNovos'], showfliers=False)\n",
        "boxplot_estado_rj_obitos.plot()\n",
        "plt.show()"
      ],
      "execution_count": 51,
      "outputs": [
        {
          "output_type": "display_data",
          "data": {
            "image/png": "[encoded data removed]",
            "text/plain": [
              "<Figure size 432x288 with 1 Axes>"
            ]
          },
          "metadata": {
            "tags": [],
            "needs_background": "light"
          }
        }
      ]
    },
    {
      "cell_type": "markdown",
      "metadata": {
        "id": "v2UjTBa-HVeo"
      },
      "source": [
        "#Análise comparativa: Município RJ vs Estado RJ"
      ]
    },
    {
      "cell_type": "markdown",
      "metadata": {
        "id": "f1Ez87MuUlyv"
      },
      "source": [
        "### <font color=\"ffd11b\">***Comparativo da média de casos do Município RJ X Estado RJ***"
      ]
    },
    {
      "cell_type": "code",
      "metadata": {
        "id": "OeJfkI6g0Ymu"
      },
      "source": [
        "metricas_munc_rj_casos = [mun_rj_junho_2021_media_casos, media_munic_rj_casos]\n",
        "metricas_estado_rj_casos = [media_estado_rj_junho_casos, media_estado_rj_casos]"
      ],
      "execution_count": 52,
      "outputs": []
    },
    {
      "cell_type": "code",
      "metadata": {
        "colab": {
          "base_uri": "https://localhost:8080/",
          "height": 111
        },
        "id": "AOGM7jffIHGh",
        "outputId": "17a45fc2-2a0f-4dfc-8509-2a4bf661f43a"
      },
      "source": [
        "casos = pd.DataFrame({\"MunRJ\":metricas_munc_rj_casos ,\"EsRJ\": metricas_estado_rj_casos}, index = ['junho_2021', 'total_20/21'])\n",
        "casos"
      ],
      "execution_count": 53,
      "outputs": [
        {
          "output_type": "execute_result",
          "data": {
            "text/html": [
              "<div>\n",
              "<style scoped>\n",
              "    .dataframe tbody tr th:only-of-type {\n",
              "        vertical-align: middle;\n",
              "    }\n",
              "\n",
              "    .dataframe tbody tr th {\n",
              "        vertical-align: top;\n",
              "    }\n",
              "\n",
              "    .dataframe thead th {\n",
              "        text-align: right;\n",
              "    }\n",
              "</style>\n",
              "<table border=\"1\" class=\"dataframe\">\n",
              "  <thead>\n",
              "    <tr style=\"text-align: right;\">\n",
              "      <th></th>\n",
              "      <th>MunRJ</th>\n",
              "      <th>EsRJ</th>\n",
              "    </tr>\n",
              "  </thead>\n",
              "  <tbody>\n",
              "    <tr>\n",
              "      <th>junho_2021</th>\n",
              "      <td>1434.466667</td>\n",
              "      <td>3094.533333</td>\n",
              "    </tr>\n",
              "    <tr>\n",
              "      <th>total_20/21</th>\n",
              "      <td>882.123563</td>\n",
              "      <td>2358.442529</td>\n",
              "    </tr>\n",
              "  </tbody>\n",
              "</table>\n",
              "</div>"
            ],
            "text/plain": [
              "                   MunRJ         EsRJ\n",
              "junho_2021   1434.466667  3094.533333\n",
              "total_20/21   882.123563  2358.442529"
            ]
          },
          "metadata": {
            "tags": []
          },
          "execution_count": 53
        }
      ]
    },
    {
      "cell_type": "code",
      "metadata": {
        "colab": {
          "base_uri": "https://localhost:8080/",
          "height": 330
        },
        "id": "W7uJPxseIcwY",
        "outputId": "303ba4d9-7adc-4484-c0e5-e5a3f6a3df16"
      },
      "source": [
        "casos.plot.bar(color=[\"Green\",\"blue\"])\n",
        "plt.title('Comparativo: Média de casos - Município RJ vs Estado RJ')\n",
        "plt.show()"
      ],
      "execution_count": 54,
      "outputs": [
        {
          "output_type": "display_data",
          "data": {
            "image/png": "[encoded data removed]",
            "text/plain": [
              "<Figure size 432x288 with 1 Axes>"
            ]
          },
          "metadata": {
            "tags": [],
            "needs_background": "light"
          }
        }
      ]
    },
    {
      "cell_type": "code",
      "metadata": {
        "colab": {
          "base_uri": "https://localhost:8080/",
          "height": 609
        },
        "id": "PUx-AaPYXBAA",
        "outputId": "cf00e674-e193-4df0-ebbb-bc74332250ab"
      },
      "source": [
        "geral_estado_rj"
      ],
      "execution_count": 55,
      "outputs": [
        {
          "output_type": "execute_result",
          "data": {
            "text/html": [
              "<div>\n",
              "<style scoped>\n",
              "    .dataframe tbody tr th:only-of-type {\n",
              "        vertical-align: middle;\n",
              "    }\n",
              "\n",
              "    .dataframe tbody tr th {\n",
              "        vertical-align: top;\n",
              "    }\n",
              "\n",
              "    .dataframe thead th {\n",
              "        text-align: right;\n",
              "    }\n",
              "</style>\n",
              "<table border=\"1\" class=\"dataframe\">\n",
              "  <thead>\n",
              "    <tr style=\"text-align: right;\">\n",
              "      <th></th>\n",
              "      <th>regiao</th>\n",
              "      <th>estado</th>\n",
              "      <th>municipio</th>\n",
              "      <th>coduf</th>\n",
              "      <th>codmun</th>\n",
              "      <th>codRegiaoSaude</th>\n",
              "      <th>nomeRegiaoSaude</th>\n",
              "      <th>data</th>\n",
              "      <th>semanaEpi</th>\n",
              "      <th>populacaoTCU2019</th>\n",
              "      <th>casosAcumulado</th>\n",
              "      <th>casosNovos</th>\n",
              "      <th>obitosAcumulado</th>\n",
              "      <th>obitosNovos</th>\n",
              "      <th>Recuperadosnovos</th>\n",
              "      <th>emAcompanhamentoNovos</th>\n",
              "      <th>interior/metropolitana</th>\n",
              "    </tr>\n",
              "  </thead>\n",
              "  <tbody>\n",
              "    <tr>\n",
              "      <th>2908</th>\n",
              "      <td>Sudeste</td>\n",
              "      <td>RJ</td>\n",
              "      <td>NaN</td>\n",
              "      <td>33.0</td>\n",
              "      <td>NaN</td>\n",
              "      <td>NaN</td>\n",
              "      <td>NaN</td>\n",
              "      <td>2020-08-01</td>\n",
              "      <td>31.0</td>\n",
              "      <td>17264943.0</td>\n",
              "      <td>167213.0</td>\n",
              "      <td>1718</td>\n",
              "      <td>13556</td>\n",
              "      <td>79.0</td>\n",
              "      <td>NaN</td>\n",
              "      <td>NaN</td>\n",
              "      <td>NaN</td>\n",
              "    </tr>\n",
              "    <tr>\n",
              "      <th>2909</th>\n",
              "      <td>Sudeste</td>\n",
              "      <td>RJ</td>\n",
              "      <td>NaN</td>\n",
              "      <td>33.0</td>\n",
              "      <td>NaN</td>\n",
              "      <td>NaN</td>\n",
              "      <td>NaN</td>\n",
              "      <td>2020-08-02</td>\n",
              "      <td>32.0</td>\n",
              "      <td>17264943.0</td>\n",
              "      <td>167225.0</td>\n",
              "      <td>12</td>\n",
              "      <td>13572</td>\n",
              "      <td>16.0</td>\n",
              "      <td>NaN</td>\n",
              "      <td>NaN</td>\n",
              "      <td>NaN</td>\n",
              "    </tr>\n",
              "    <tr>\n",
              "      <th>2910</th>\n",
              "      <td>Sudeste</td>\n",
              "      <td>RJ</td>\n",
              "      <td>NaN</td>\n",
              "      <td>33.0</td>\n",
              "      <td>NaN</td>\n",
              "      <td>NaN</td>\n",
              "      <td>NaN</td>\n",
              "      <td>2020-08-03</td>\n",
              "      <td>32.0</td>\n",
              "      <td>17264943.0</td>\n",
              "      <td>168064.0</td>\n",
              "      <td>839</td>\n",
              "      <td>13604</td>\n",
              "      <td>32.0</td>\n",
              "      <td>NaN</td>\n",
              "      <td>NaN</td>\n",
              "      <td>NaN</td>\n",
              "    </tr>\n",
              "    <tr>\n",
              "      <th>2911</th>\n",
              "      <td>Sudeste</td>\n",
              "      <td>RJ</td>\n",
              "      <td>NaN</td>\n",
              "      <td>33.0</td>\n",
              "      <td>NaN</td>\n",
              "      <td>NaN</td>\n",
              "      <td>NaN</td>\n",
              "      <td>2020-08-04</td>\n",
              "      <td>32.0</td>\n",
              "      <td>17264943.0</td>\n",
              "      <td>168911.0</td>\n",
              "      <td>847</td>\n",
              "      <td>13715</td>\n",
              "      <td>111.0</td>\n",
              "      <td>NaN</td>\n",
              "      <td>NaN</td>\n",
              "      <td>NaN</td>\n",
              "    </tr>\n",
              "    <tr>\n",
              "      <th>2912</th>\n",
              "      <td>Sudeste</td>\n",
              "      <td>RJ</td>\n",
              "      <td>NaN</td>\n",
              "      <td>33.0</td>\n",
              "      <td>NaN</td>\n",
              "      <td>NaN</td>\n",
              "      <td>NaN</td>\n",
              "      <td>2020-08-05</td>\n",
              "      <td>32.0</td>\n",
              "      <td>17264943.0</td>\n",
              "      <td>172679.0</td>\n",
              "      <td>3768</td>\n",
              "      <td>13855</td>\n",
              "      <td>140.0</td>\n",
              "      <td>NaN</td>\n",
              "      <td>NaN</td>\n",
              "      <td>NaN</td>\n",
              "    </tr>\n",
              "    <tr>\n",
              "      <th>...</th>\n",
              "      <td>...</td>\n",
              "      <td>...</td>\n",
              "      <td>...</td>\n",
              "      <td>...</td>\n",
              "      <td>...</td>\n",
              "      <td>...</td>\n",
              "      <td>...</td>\n",
              "      <td>...</td>\n",
              "      <td>...</td>\n",
              "      <td>...</td>\n",
              "      <td>...</td>\n",
              "      <td>...</td>\n",
              "      <td>...</td>\n",
              "      <td>...</td>\n",
              "      <td>...</td>\n",
              "      <td>...</td>\n",
              "      <td>...</td>\n",
              "    </tr>\n",
              "    <tr>\n",
              "      <th>275</th>\n",
              "      <td>Sudeste</td>\n",
              "      <td>RJ</td>\n",
              "      <td>NaN</td>\n",
              "      <td>33.0</td>\n",
              "      <td>NaN</td>\n",
              "      <td>NaN</td>\n",
              "      <td>NaN</td>\n",
              "      <td>2021-07-10</td>\n",
              "      <td>27.0</td>\n",
              "      <td>17264943.0</td>\n",
              "      <td>981088.0</td>\n",
              "      <td>3318</td>\n",
              "      <td>56755</td>\n",
              "      <td>196.0</td>\n",
              "      <td>NaN</td>\n",
              "      <td>NaN</td>\n",
              "      <td>NaN</td>\n",
              "    </tr>\n",
              "    <tr>\n",
              "      <th>276</th>\n",
              "      <td>Sudeste</td>\n",
              "      <td>RJ</td>\n",
              "      <td>NaN</td>\n",
              "      <td>33.0</td>\n",
              "      <td>NaN</td>\n",
              "      <td>NaN</td>\n",
              "      <td>NaN</td>\n",
              "      <td>2021-07-11</td>\n",
              "      <td>28.0</td>\n",
              "      <td>17264943.0</td>\n",
              "      <td>981839.0</td>\n",
              "      <td>751</td>\n",
              "      <td>56808</td>\n",
              "      <td>53.0</td>\n",
              "      <td>NaN</td>\n",
              "      <td>NaN</td>\n",
              "      <td>NaN</td>\n",
              "    </tr>\n",
              "    <tr>\n",
              "      <th>277</th>\n",
              "      <td>Sudeste</td>\n",
              "      <td>RJ</td>\n",
              "      <td>NaN</td>\n",
              "      <td>33.0</td>\n",
              "      <td>NaN</td>\n",
              "      <td>NaN</td>\n",
              "      <td>NaN</td>\n",
              "      <td>2021-07-12</td>\n",
              "      <td>28.0</td>\n",
              "      <td>17264943.0</td>\n",
              "      <td>982609.0</td>\n",
              "      <td>770</td>\n",
              "      <td>56848</td>\n",
              "      <td>40.0</td>\n",
              "      <td>NaN</td>\n",
              "      <td>NaN</td>\n",
              "      <td>NaN</td>\n",
              "    </tr>\n",
              "    <tr>\n",
              "      <th>278</th>\n",
              "      <td>Sudeste</td>\n",
              "      <td>RJ</td>\n",
              "      <td>NaN</td>\n",
              "      <td>33.0</td>\n",
              "      <td>NaN</td>\n",
              "      <td>NaN</td>\n",
              "      <td>NaN</td>\n",
              "      <td>2021-07-13</td>\n",
              "      <td>28.0</td>\n",
              "      <td>17264943.0</td>\n",
              "      <td>984554.0</td>\n",
              "      <td>1945</td>\n",
              "      <td>56947</td>\n",
              "      <td>99.0</td>\n",
              "      <td>NaN</td>\n",
              "      <td>NaN</td>\n",
              "      <td>NaN</td>\n",
              "    </tr>\n",
              "    <tr>\n",
              "      <th>279</th>\n",
              "      <td>Sudeste</td>\n",
              "      <td>RJ</td>\n",
              "      <td>NaN</td>\n",
              "      <td>33.0</td>\n",
              "      <td>NaN</td>\n",
              "      <td>NaN</td>\n",
              "      <td>NaN</td>\n",
              "      <td>2021-07-14</td>\n",
              "      <td>28.0</td>\n",
              "      <td>17264943.0</td>\n",
              "      <td>986233.0</td>\n",
              "      <td>1679</td>\n",
              "      <td>57075</td>\n",
              "      <td>128.0</td>\n",
              "      <td>NaN</td>\n",
              "      <td>NaN</td>\n",
              "      <td>NaN</td>\n",
              "    </tr>\n",
              "  </tbody>\n",
              "</table>\n",
              "<p>348 rows × 17 columns</p>\n",
              "</div>"
            ],
            "text/plain": [
              "       regiao estado  ... emAcompanhamentoNovos  interior/metropolitana\n",
              "2908  Sudeste     RJ  ...                   NaN                     NaN\n",
              "2909  Sudeste     RJ  ...                   NaN                     NaN\n",
              "2910  Sudeste     RJ  ...                   NaN                     NaN\n",
              "2911  Sudeste     RJ  ...                   NaN                     NaN\n",
              "2912  Sudeste     RJ  ...                   NaN                     NaN\n",
              "...       ...    ...  ...                   ...                     ...\n",
              "275   Sudeste     RJ  ...                   NaN                     NaN\n",
              "276   Sudeste     RJ  ...                   NaN                     NaN\n",
              "277   Sudeste     RJ  ...                   NaN                     NaN\n",
              "278   Sudeste     RJ  ...                   NaN                     NaN\n",
              "279   Sudeste     RJ  ...                   NaN                     NaN\n",
              "\n",
              "[348 rows x 17 columns]"
            ]
          },
          "metadata": {
            "tags": []
          },
          "execution_count": 55
        }
      ]
    },
    {
      "cell_type": "code",
      "metadata": {
        "colab": {
          "base_uri": "https://localhost:8080/",
          "height": 609
        },
        "id": "1Ha57hJZWFd3",
        "outputId": "dd7b6824-6373-4bfb-ad6d-7069ab1f0e5a"
      },
      "source": [
        "casos2 = pd.DataFrame({\"MunRJ\":geral_munic_rj['casosNovos']  ,\"EsRJ\": geral_estado_rj['casosNovos'] })\n",
        "geral_estado_rj"
      ],
      "execution_count": 56,
      "outputs": [
        {
          "output_type": "execute_result",
          "data": {
            "text/html": [
              "<div>\n",
              "<style scoped>\n",
              "    .dataframe tbody tr th:only-of-type {\n",
              "        vertical-align: middle;\n",
              "    }\n",
              "\n",
              "    .dataframe tbody tr th {\n",
              "        vertical-align: top;\n",
              "    }\n",
              "\n",
              "    .dataframe thead th {\n",
              "        text-align: right;\n",
              "    }\n",
              "</style>\n",
              "<table border=\"1\" class=\"dataframe\">\n",
              "  <thead>\n",
              "    <tr style=\"text-align: right;\">\n",
              "      <th></th>\n",
              "      <th>regiao</th>\n",
              "      <th>estado</th>\n",
              "      <th>municipio</th>\n",
              "      <th>coduf</th>\n",
              "      <th>codmun</th>\n",
              "      <th>codRegiaoSaude</th>\n",
              "      <th>nomeRegiaoSaude</th>\n",
              "      <th>data</th>\n",
              "      <th>semanaEpi</th>\n",
              "      <th>populacaoTCU2019</th>\n",
              "      <th>casosAcumulado</th>\n",
              "      <th>casosNovos</th>\n",
              "      <th>obitosAcumulado</th>\n",
              "      <th>obitosNovos</th>\n",
              "      <th>Recuperadosnovos</th>\n",
              "      <th>emAcompanhamentoNovos</th>\n",
              "      <th>interior/metropolitana</th>\n",
              "    </tr>\n",
              "  </thead>\n",
              "  <tbody>\n",
              "    <tr>\n",
              "      <th>2908</th>\n",
              "      <td>Sudeste</td>\n",
              "      <td>RJ</td>\n",
              "      <td>NaN</td>\n",
              "      <td>33.0</td>\n",
              "      <td>NaN</td>\n",
              "      <td>NaN</td>\n",
              "      <td>NaN</td>\n",
              "      <td>2020-08-01</td>\n",
              "      <td>31.0</td>\n",
              "      <td>17264943.0</td>\n",
              "      <td>167213.0</td>\n",
              "      <td>1718</td>\n",
              "      <td>13556</td>\n",
              "      <td>79.0</td>\n",
              "      <td>NaN</td>\n",
              "      <td>NaN</td>\n",
              "      <td>NaN</td>\n",
              "    </tr>\n",
              "    <tr>\n",
              "      <th>2909</th>\n",
              "      <td>Sudeste</td>\n",
              "      <td>RJ</td>\n",
              "      <td>NaN</td>\n",
              "      <td>33.0</td>\n",
              "      <td>NaN</td>\n",
              "      <td>NaN</td>\n",
              "      <td>NaN</td>\n",
              "      <td>2020-08-02</td>\n",
              "      <td>32.0</td>\n",
              "      <td>17264943.0</td>\n",
              "      <td>167225.0</td>\n",
              "      <td>12</td>\n",
              "      <td>13572</td>\n",
              "      <td>16.0</td>\n",
              "      <td>NaN</td>\n",
              "      <td>NaN</td>\n",
              "      <td>NaN</td>\n",
              "    </tr>\n",
              "    <tr>\n",
              "      <th>2910</th>\n",
              "      <td>Sudeste</td>\n",
              "      <td>RJ</td>\n",
              "      <td>NaN</td>\n",
              "      <td>33.0</td>\n",
              "      <td>NaN</td>\n",
              "      <td>NaN</td>\n",
              "      <td>NaN</td>\n",
              "      <td>2020-08-03</td>\n",
              "      <td>32.0</td>\n",
              "      <td>17264943.0</td>\n",
              "      <td>168064.0</td>\n",
              "      <td>839</td>\n",
              "      <td>13604</td>\n",
              "      <td>32.0</td>\n",
              "      <td>NaN</td>\n",
              "      <td>NaN</td>\n",
              "      <td>NaN</td>\n",
              "    </tr>\n",
              "    <tr>\n",
              "      <th>2911</th>\n",
              "      <td>Sudeste</td>\n",
              "      <td>RJ</td>\n",
              "      <td>NaN</td>\n",
              "      <td>33.0</td>\n",
              "      <td>NaN</td>\n",
              "      <td>NaN</td>\n",
              "      <td>NaN</td>\n",
              "      <td>2020-08-04</td>\n",
              "      <td>32.0</td>\n",
              "      <td>17264943.0</td>\n",
              "      <td>168911.0</td>\n",
              "      <td>847</td>\n",
              "      <td>13715</td>\n",
              "      <td>111.0</td>\n",
              "      <td>NaN</td>\n",
              "      <td>NaN</td>\n",
              "      <td>NaN</td>\n",
              "    </tr>\n",
              "    <tr>\n",
              "      <th>2912</th>\n",
              "      <td>Sudeste</td>\n",
              "      <td>RJ</td>\n",
              "      <td>NaN</td>\n",
              "      <td>33.0</td>\n",
              "      <td>NaN</td>\n",
              "      <td>NaN</td>\n",
              "      <td>NaN</td>\n",
              "      <td>2020-08-05</td>\n",
              "      <td>32.0</td>\n",
              "      <td>17264943.0</td>\n",
              "      <td>172679.0</td>\n",
              "      <td>3768</td>\n",
              "      <td>13855</td>\n",
              "      <td>140.0</td>\n",
              "      <td>NaN</td>\n",
              "      <td>NaN</td>\n",
              "      <td>NaN</td>\n",
              "    </tr>\n",
              "    <tr>\n",
              "      <th>...</th>\n",
              "      <td>...</td>\n",
              "      <td>...</td>\n",
              "      <td>...</td>\n",
              "      <td>...</td>\n",
              "      <td>...</td>\n",
              "      <td>...</td>\n",
              "      <td>...</td>\n",
              "      <td>...</td>\n",
              "      <td>...</td>\n",
              "      <td>...</td>\n",
              "      <td>...</td>\n",
              "      <td>...</td>\n",
              "      <td>...</td>\n",
              "      <td>...</td>\n",
              "      <td>...</td>\n",
              "      <td>...</td>\n",
              "      <td>...</td>\n",
              "    </tr>\n",
              "    <tr>\n",
              "      <th>275</th>\n",
              "      <td>Sudeste</td>\n",
              "      <td>RJ</td>\n",
              "      <td>NaN</td>\n",
              "      <td>33.0</td>\n",
              "      <td>NaN</td>\n",
              "      <td>NaN</td>\n",
              "      <td>NaN</td>\n",
              "      <td>2021-07-10</td>\n",
              "      <td>27.0</td>\n",
              "      <td>17264943.0</td>\n",
              "      <td>981088.0</td>\n",
              "      <td>3318</td>\n",
              "      <td>56755</td>\n",
              "      <td>196.0</td>\n",
              "      <td>NaN</td>\n",
              "      <td>NaN</td>\n",
              "      <td>NaN</td>\n",
              "    </tr>\n",
              "    <tr>\n",
              "      <th>276</th>\n",
              "      <td>Sudeste</td>\n",
              "      <td>RJ</td>\n",
              "      <td>NaN</td>\n",
              "      <td>33.0</td>\n",
              "      <td>NaN</td>\n",
              "      <td>NaN</td>\n",
              "      <td>NaN</td>\n",
              "      <td>2021-07-11</td>\n",
              "      <td>28.0</td>\n",
              "      <td>17264943.0</td>\n",
              "      <td>981839.0</td>\n",
              "      <td>751</td>\n",
              "      <td>56808</td>\n",
              "      <td>53.0</td>\n",
              "      <td>NaN</td>\n",
              "      <td>NaN</td>\n",
              "      <td>NaN</td>\n",
              "    </tr>\n",
              "    <tr>\n",
              "      <th>277</th>\n",
              "      <td>Sudeste</td>\n",
              "      <td>RJ</td>\n",
              "      <td>NaN</td>\n",
              "      <td>33.0</td>\n",
              "      <td>NaN</td>\n",
              "      <td>NaN</td>\n",
              "      <td>NaN</td>\n",
              "      <td>2021-07-12</td>\n",
              "      <td>28.0</td>\n",
              "      <td>17264943.0</td>\n",
              "      <td>982609.0</td>\n",
              "      <td>770</td>\n",
              "      <td>56848</td>\n",
              "      <td>40.0</td>\n",
              "      <td>NaN</td>\n",
              "      <td>NaN</td>\n",
              "      <td>NaN</td>\n",
              "    </tr>\n",
              "    <tr>\n",
              "      <th>278</th>\n",
              "      <td>Sudeste</td>\n",
              "      <td>RJ</td>\n",
              "      <td>NaN</td>\n",
              "      <td>33.0</td>\n",
              "      <td>NaN</td>\n",
              "      <td>NaN</td>\n",
              "      <td>NaN</td>\n",
              "      <td>2021-07-13</td>\n",
              "      <td>28.0</td>\n",
              "      <td>17264943.0</td>\n",
              "      <td>984554.0</td>\n",
              "      <td>1945</td>\n",
              "      <td>56947</td>\n",
              "      <td>99.0</td>\n",
              "      <td>NaN</td>\n",
              "      <td>NaN</td>\n",
              "      <td>NaN</td>\n",
              "    </tr>\n",
              "    <tr>\n",
              "      <th>279</th>\n",
              "      <td>Sudeste</td>\n",
              "      <td>RJ</td>\n",
              "      <td>NaN</td>\n",
              "      <td>33.0</td>\n",
              "      <td>NaN</td>\n",
              "      <td>NaN</td>\n",
              "      <td>NaN</td>\n",
              "      <td>2021-07-14</td>\n",
              "      <td>28.0</td>\n",
              "      <td>17264943.0</td>\n",
              "      <td>986233.0</td>\n",
              "      <td>1679</td>\n",
              "      <td>57075</td>\n",
              "      <td>128.0</td>\n",
              "      <td>NaN</td>\n",
              "      <td>NaN</td>\n",
              "      <td>NaN</td>\n",
              "    </tr>\n",
              "  </tbody>\n",
              "</table>\n",
              "<p>348 rows × 17 columns</p>\n",
              "</div>"
            ],
            "text/plain": [
              "       regiao estado  ... emAcompanhamentoNovos  interior/metropolitana\n",
              "2908  Sudeste     RJ  ...                   NaN                     NaN\n",
              "2909  Sudeste     RJ  ...                   NaN                     NaN\n",
              "2910  Sudeste     RJ  ...                   NaN                     NaN\n",
              "2911  Sudeste     RJ  ...                   NaN                     NaN\n",
              "2912  Sudeste     RJ  ...                   NaN                     NaN\n",
              "...       ...    ...  ...                   ...                     ...\n",
              "275   Sudeste     RJ  ...                   NaN                     NaN\n",
              "276   Sudeste     RJ  ...                   NaN                     NaN\n",
              "277   Sudeste     RJ  ...                   NaN                     NaN\n",
              "278   Sudeste     RJ  ...                   NaN                     NaN\n",
              "279   Sudeste     RJ  ...                   NaN                     NaN\n",
              "\n",
              "[348 rows x 17 columns]"
            ]
          },
          "metadata": {
            "tags": []
          },
          "execution_count": 56
        }
      ]
    },
    {
      "cell_type": "markdown",
      "metadata": {
        "id": "Wd593Q4IWhN4"
      },
      "source": [
        "### <font color=\"red\">***Comparativo da média de Óbitos do Munícipio RJ X Estado RJ***\n",
        "\n"
      ]
    },
    {
      "cell_type": "code",
      "metadata": {
        "colab": {
          "base_uri": "https://localhost:8080/",
          "height": 111
        },
        "id": "uUKTHDGGIqZa",
        "outputId": "d072db03-960a-44fc-fa5f-62ce245ab16f"
      },
      "source": [
        "metricas_munc_rj_obitos = [mun_rj_junho_2021_media_obitos, media_munic_rj_obitos]\n",
        "metricas_estado_rj_obitos = [media_estado_rj_junho_obitos, media_estado_rj_obitos]\n",
        "obitos = pd.DataFrame({\"MunRJ\":metricas_munc_rj_obitos ,\"EsRJ\": metricas_estado_rj_obitos}, index = ['junho_2021', 'total_20/21'])\n",
        "obitos"
      ],
      "execution_count": 57,
      "outputs": [
        {
          "output_type": "execute_result",
          "data": {
            "text/html": [
              "<div>\n",
              "<style scoped>\n",
              "    .dataframe tbody tr th:only-of-type {\n",
              "        vertical-align: middle;\n",
              "    }\n",
              "\n",
              "    .dataframe tbody tr th {\n",
              "        vertical-align: top;\n",
              "    }\n",
              "\n",
              "    .dataframe thead th {\n",
              "        text-align: right;\n",
              "    }\n",
              "</style>\n",
              "<table border=\"1\" class=\"dataframe\">\n",
              "  <thead>\n",
              "    <tr style=\"text-align: right;\">\n",
              "      <th></th>\n",
              "      <th>MunRJ</th>\n",
              "      <th>EsRJ</th>\n",
              "    </tr>\n",
              "  </thead>\n",
              "  <tbody>\n",
              "    <tr>\n",
              "      <th>junho_2021</th>\n",
              "      <td>77.200000</td>\n",
              "      <td>162.866667</td>\n",
              "    </tr>\n",
              "    <tr>\n",
              "      <th>total_20/21</th>\n",
              "      <td>60.301724</td>\n",
              "      <td>125.281609</td>\n",
              "    </tr>\n",
              "  </tbody>\n",
              "</table>\n",
              "</div>"
            ],
            "text/plain": [
              "                 MunRJ        EsRJ\n",
              "junho_2021   77.200000  162.866667\n",
              "total_20/21  60.301724  125.281609"
            ]
          },
          "metadata": {
            "tags": []
          },
          "execution_count": 57
        }
      ]
    },
    {
      "cell_type": "code",
      "metadata": {
        "colab": {
          "base_uri": "https://localhost:8080/",
          "height": 332
        },
        "id": "rx6Zp43BV8Ny",
        "outputId": "176e84ef-b1e7-4e09-8aa5-544619691d99"
      },
      "source": [
        "obitos.plot.bar(color=[\"yellow\",\"red\"])\n",
        "plt.title('Comparativo: Média de Óbitos - Município RJ vs Estado RJ')\n",
        "plt.show()"
      ],
      "execution_count": 58,
      "outputs": [
        {
          "output_type": "display_data",
          "data": {
            "image/png": "[encoded data removed]",
            "text/plain": [
              "<Figure size 432x288 with 1 Axes>"
            ]
          },
          "metadata": {
            "tags": [],
            "needs_background": "light"
          }
        }
      ]
    },
    {
      "cell_type": "markdown",
      "metadata": {
        "id": "h1yPzDgQgS0p"
      },
      "source": [
        "# Analise das Regiões do Estado"
      ]
    },
    {
      "cell_type": "code",
      "metadata": {
        "colab": {
          "base_uri": "https://localhost:8080/",
          "height": 359
        },
        "id": "z_BOiCZrgpj3",
        "outputId": "7fca90ff-81f5-4eae-f745-5f0471ddbc2d"
      },
      "source": [
        "tudo_rj = data_geral[(data_geral.estado =='RJ') ]\n",
        "regioes_rj = tudo_rj.groupby(\"nomeRegiaoSaude\").sum()\n",
        "regioes_rj"
      ],
      "execution_count": 59,
      "outputs": [
        {
          "output_type": "execute_result",
          "data": {
            "text/html": [
              "<div>\n",
              "<style scoped>\n",
              "    .dataframe tbody tr th:only-of-type {\n",
              "        vertical-align: middle;\n",
              "    }\n",
              "\n",
              "    .dataframe tbody tr th {\n",
              "        vertical-align: top;\n",
              "    }\n",
              "\n",
              "    .dataframe thead th {\n",
              "        text-align: right;\n",
              "    }\n",
              "</style>\n",
              "<table border=\"1\" class=\"dataframe\">\n",
              "  <thead>\n",
              "    <tr style=\"text-align: right;\">\n",
              "      <th></th>\n",
              "      <th>coduf</th>\n",
              "      <th>codmun</th>\n",
              "      <th>semanaEpi</th>\n",
              "      <th>populacaoTCU2019</th>\n",
              "      <th>casosAcumulado</th>\n",
              "      <th>casosNovos</th>\n",
              "      <th>obitosAcumulado</th>\n",
              "      <th>obitosNovos</th>\n",
              "      <th>Recuperadosnovos</th>\n",
              "      <th>emAcompanhamentoNovos</th>\n",
              "      <th>interior/metropolitana</th>\n",
              "    </tr>\n",
              "    <tr>\n",
              "      <th>nomeRegiaoSaude</th>\n",
              "      <th></th>\n",
              "      <th></th>\n",
              "      <th></th>\n",
              "      <th></th>\n",
              "      <th></th>\n",
              "      <th></th>\n",
              "      <th></th>\n",
              "      <th></th>\n",
              "      <th></th>\n",
              "      <th></th>\n",
              "      <th></th>\n",
              "    </tr>\n",
              "  </thead>\n",
              "  <tbody>\n",
              "    <tr>\n",
              "      <th>BAIA DA ILHA GRANDE</th>\n",
              "      <td>34452.0</td>\n",
              "      <td>3.447462e+08</td>\n",
              "      <td>28002.0</td>\n",
              "      <td>1.014135e+08</td>\n",
              "      <td>4267029.0</td>\n",
              "      <td>14816</td>\n",
              "      <td>141078</td>\n",
              "      <td>540.0</td>\n",
              "      <td>0.0</td>\n",
              "      <td>0.0</td>\n",
              "      <td>0.0</td>\n",
              "    </tr>\n",
              "    <tr>\n",
              "      <th>BAIXADA LITORANEA</th>\n",
              "      <td>103356.0</td>\n",
              "      <td>1.034248e+09</td>\n",
              "      <td>84006.0</td>\n",
              "      <td>2.923054e+08</td>\n",
              "      <td>8940172.0</td>\n",
              "      <td>48243</td>\n",
              "      <td>372298</td>\n",
              "      <td>2195.0</td>\n",
              "      <td>0.0</td>\n",
              "      <td>0.0</td>\n",
              "      <td>0.0</td>\n",
              "    </tr>\n",
              "    <tr>\n",
              "      <th>CENTRO-SUL</th>\n",
              "      <td>126324.0</td>\n",
              "      <td>1.264542e+09</td>\n",
              "      <td>102674.0</td>\n",
              "      <td>1.185030e+08</td>\n",
              "      <td>5789196.0</td>\n",
              "      <td>29465</td>\n",
              "      <td>163694</td>\n",
              "      <td>981.0</td>\n",
              "      <td>0.0</td>\n",
              "      <td>0.0</td>\n",
              "      <td>348.0</td>\n",
              "    </tr>\n",
              "    <tr>\n",
              "      <th>MEDIO PARAIBA</th>\n",
              "      <td>137808.0</td>\n",
              "      <td>1.379633e+09</td>\n",
              "      <td>112008.0</td>\n",
              "      <td>3.179669e+08</td>\n",
              "      <td>14557354.0</td>\n",
              "      <td>79848</td>\n",
              "      <td>467573</td>\n",
              "      <td>2728.0</td>\n",
              "      <td>0.0</td>\n",
              "      <td>0.0</td>\n",
              "      <td>0.0</td>\n",
              "    </tr>\n",
              "    <tr>\n",
              "      <th>METROPOLITANA I</th>\n",
              "      <td>137808.0</td>\n",
              "      <td>1.379396e+09</td>\n",
              "      <td>112008.0</td>\n",
              "      <td>3.652962e+09</td>\n",
              "      <td>90465673.0</td>\n",
              "      <td>389686</td>\n",
              "      <td>7575149</td>\n",
              "      <td>26157.0</td>\n",
              "      <td>0.0</td>\n",
              "      <td>0.0</td>\n",
              "      <td>4176.0</td>\n",
              "    </tr>\n",
              "    <tr>\n",
              "      <th>METROPOLITANA II</th>\n",
              "      <td>80388.0</td>\n",
              "      <td>8.048701e+08</td>\n",
              "      <td>65338.0</td>\n",
              "      <td>7.365441e+08</td>\n",
              "      <td>24051858.0</td>\n",
              "      <td>100262</td>\n",
              "      <td>1088222</td>\n",
              "      <td>5066.0</td>\n",
              "      <td>0.0</td>\n",
              "      <td>0.0</td>\n",
              "      <td>2088.0</td>\n",
              "    </tr>\n",
              "    <tr>\n",
              "      <th>NOROESTE</th>\n",
              "      <td>160776.0</td>\n",
              "      <td>1.609070e+09</td>\n",
              "      <td>130676.0</td>\n",
              "      <td>1.211705e+08</td>\n",
              "      <td>5894948.0</td>\n",
              "      <td>25984</td>\n",
              "      <td>131316</td>\n",
              "      <td>740.0</td>\n",
              "      <td>0.0</td>\n",
              "      <td>0.0</td>\n",
              "      <td>0.0</td>\n",
              "    </tr>\n",
              "    <tr>\n",
              "      <th>NORTE</th>\n",
              "      <td>91872.0</td>\n",
              "      <td>9.195702e+08</td>\n",
              "      <td>74672.0</td>\n",
              "      <td>3.290079e+08</td>\n",
              "      <td>12852137.0</td>\n",
              "      <td>56780</td>\n",
              "      <td>419045</td>\n",
              "      <td>2239.0</td>\n",
              "      <td>0.0</td>\n",
              "      <td>0.0</td>\n",
              "      <td>0.0</td>\n",
              "    </tr>\n",
              "    <tr>\n",
              "      <th>SERRANA</th>\n",
              "      <td>183744.0</td>\n",
              "      <td>1.839206e+09</td>\n",
              "      <td>149344.0</td>\n",
              "      <td>3.383273e+08</td>\n",
              "      <td>14200004.0</td>\n",
              "      <td>75654</td>\n",
              "      <td>519738</td>\n",
              "      <td>2952.0</td>\n",
              "      <td>0.0</td>\n",
              "      <td>0.0</td>\n",
              "      <td>1044.0</td>\n",
              "    </tr>\n",
              "  </tbody>\n",
              "</table>\n",
              "</div>"
            ],
            "text/plain": [
              "                        coduf  ...  interior/metropolitana\n",
              "nomeRegiaoSaude                ...                        \n",
              "BAIA DA ILHA GRANDE   34452.0  ...                     0.0\n",
              "BAIXADA LITORANEA    103356.0  ...                     0.0\n",
              "CENTRO-SUL           126324.0  ...                   348.0\n",
              "MEDIO PARAIBA        137808.0  ...                     0.0\n",
              "METROPOLITANA I      137808.0  ...                  4176.0\n",
              "METROPOLITANA II      80388.0  ...                  2088.0\n",
              "NOROESTE             160776.0  ...                     0.0\n",
              "NORTE                 91872.0  ...                     0.0\n",
              "SERRANA              183744.0  ...                  1044.0\n",
              "\n",
              "[9 rows x 11 columns]"
            ]
          },
          "metadata": {
            "tags": []
          },
          "execution_count": 59
        }
      ]
    },
    {
      "cell_type": "code",
      "metadata": {
        "colab": {
          "base_uri": "https://localhost:8080/",
          "height": 398
        },
        "id": "3Heg78fTo0uw",
        "outputId": "bf046f04-bf3e-4ba8-dd2b-876843c3bd1b"
      },
      "source": [
        "regioes_rj.sort_values(by=['casosNovos'], inplace=True)\n",
        "regioes_rj.plot.bar(y='casosAcumulado', color='green')\n",
        "plt.xlabel('Regiões')\n",
        "plt.ylabel('Qtde de casos')\n",
        "plt.title('Casos por Região do Estado do RJ')\n",
        "plt.show()\n"
      ],
      "execution_count": 60,
      "outputs": [
        {
          "output_type": "display_data",
          "data": {
            "image/png": "[encoded data removed]",
            "text/plain": [
              "<Figure size 432x288 with 1 Axes>"
            ]
          },
          "metadata": {
            "tags": [],
            "needs_background": "light"
          }
        }
      ]
    },
    {
      "cell_type": "code",
      "metadata": {
        "colab": {
          "base_uri": "https://localhost:8080/",
          "height": 117
        },
        "id": "MKcWUgyEKQxO",
        "outputId": "8a5cae57-75ee-48d6-a0cb-ca55373e21c9"
      },
      "source": [
        "acumulado_rj = geral_estado_rj.loc[geral_estado_rj['data'] == '2021-07-14']\n",
        "acumulado_rj"
      ],
      "execution_count": 61,
      "outputs": [
        {
          "output_type": "execute_result",
          "data": {
            "text/html": [
              "<div>\n",
              "<style scoped>\n",
              "    .dataframe tbody tr th:only-of-type {\n",
              "        vertical-align: middle;\n",
              "    }\n",
              "\n",
              "    .dataframe tbody tr th {\n",
              "        vertical-align: top;\n",
              "    }\n",
              "\n",
              "    .dataframe thead th {\n",
              "        text-align: right;\n",
              "    }\n",
              "</style>\n",
              "<table border=\"1\" class=\"dataframe\">\n",
              "  <thead>\n",
              "    <tr style=\"text-align: right;\">\n",
              "      <th></th>\n",
              "      <th>regiao</th>\n",
              "      <th>estado</th>\n",
              "      <th>municipio</th>\n",
              "      <th>coduf</th>\n",
              "      <th>codmun</th>\n",
              "      <th>codRegiaoSaude</th>\n",
              "      <th>nomeRegiaoSaude</th>\n",
              "      <th>data</th>\n",
              "      <th>semanaEpi</th>\n",
              "      <th>populacaoTCU2019</th>\n",
              "      <th>casosAcumulado</th>\n",
              "      <th>casosNovos</th>\n",
              "      <th>obitosAcumulado</th>\n",
              "      <th>obitosNovos</th>\n",
              "      <th>Recuperadosnovos</th>\n",
              "      <th>emAcompanhamentoNovos</th>\n",
              "      <th>interior/metropolitana</th>\n",
              "    </tr>\n",
              "  </thead>\n",
              "  <tbody>\n",
              "    <tr>\n",
              "      <th>279</th>\n",
              "      <td>Sudeste</td>\n",
              "      <td>RJ</td>\n",
              "      <td>NaN</td>\n",
              "      <td>33.0</td>\n",
              "      <td>NaN</td>\n",
              "      <td>NaN</td>\n",
              "      <td>NaN</td>\n",
              "      <td>2021-07-14</td>\n",
              "      <td>28.0</td>\n",
              "      <td>17264943.0</td>\n",
              "      <td>986233.0</td>\n",
              "      <td>1679</td>\n",
              "      <td>57075</td>\n",
              "      <td>128.0</td>\n",
              "      <td>NaN</td>\n",
              "      <td>NaN</td>\n",
              "      <td>NaN</td>\n",
              "    </tr>\n",
              "  </tbody>\n",
              "</table>\n",
              "</div>"
            ],
            "text/plain": [
              "      regiao estado  ... emAcompanhamentoNovos  interior/metropolitana\n",
              "279  Sudeste     RJ  ...                   NaN                     NaN\n",
              "\n",
              "[1 rows x 17 columns]"
            ]
          },
          "metadata": {
            "tags": []
          },
          "execution_count": 61
        }
      ]
    },
    {
      "cell_type": "code",
      "metadata": {
        "id": "gS6TUMBziYIM"
      },
      "source": [
        ""
      ],
      "execution_count": 61,
      "outputs": []
    },
    {
      "cell_type": "markdown",
      "metadata": {
        "id": "qVMo-IxTf4Hs"
      },
      "source": [
        "Média obtitos Região junho 2021"
      ]
    },
    {
      "cell_type": "markdown",
      "metadata": {
        "id": "7oUEpiiQgA_-"
      },
      "source": [
        "Média obitos região 2020/2021"
      ]
    },
    {
      "cell_type": "markdown",
      "metadata": {
        "id": "-scZF7vIfxFh"
      },
      "source": [
        "Média casos Região junho 2021"
      ]
    },
    {
      "cell_type": "code",
      "metadata": {
        "id": "mY4I3xp2WR_c"
      },
      "source": [
        ""
      ],
      "execution_count": 61,
      "outputs": []
    }
  ]
}